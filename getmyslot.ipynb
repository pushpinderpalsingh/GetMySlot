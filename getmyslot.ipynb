{
 "cells": [
  {
   "cell_type": "code",
   "execution_count": 1,
   "outputs": [],
   "source": [
    "import time\n",
    "\n",
    "import config\n",
    "import tweepy\n",
    "import pandas as pd\n",
    "import requests\n",
    "import datetime\n",
    "import time\n",
    "import logging\n",
    "import asyncio\n",
    "import sys"
   ],
   "metadata": {
    "collapsed": false,
    "pycharm": {
     "name": "#%%\n"
    }
   }
  },
  {
   "cell_type": "code",
   "execution_count": 2,
   "outputs": [],
   "source": [
    "today = datetime.datetime.today()\n",
    "tomorrow = today + datetime.timedelta(days=1)\n",
    "dayAfter = today + datetime.timedelta(days=2)\n",
    "dates = [today.strftime(\"%d-%m-%Y\"),tomorrow.strftime(\"%d-%m-%Y\"),dayAfter.strftime(\"%d-%m-%Y\")]\n",
    "failedTweet = [1389616776728645636]"
   ],
   "metadata": {
    "collapsed": false,
    "pycharm": {
     "name": "#%%\n"
    }
   }
  },
  {
   "cell_type": "code",
   "execution_count": 3,
   "outputs": [],
   "source": [
    "clean = False\n",
    "df = pd.read_csv(\"UserData.csv\")"
   ],
   "metadata": {
    "collapsed": false,
    "pycharm": {
     "name": "#%%\n"
    }
   }
  },
  {
   "cell_type": "code",
   "execution_count": 4,
   "outputs": [],
   "source": [
    "auth = tweepy.OAuthHandler(config.key,config.scret_key)\n",
    "auth.set_access_token(config.access_token,config.access_token_secret)\n",
    "api = tweepy.API(auth)"
   ],
   "metadata": {
    "collapsed": false,
    "pycharm": {
     "name": "#%%\n"
    }
   }
  },
  {
   "cell_type": "code",
   "execution_count": null,
   "outputs": [],
   "source": [
    "df = pd.read_csv(\"UserData.csv\")\n",
    "\n",
    "sinceID = max(df.TweetID.max(),max(failedTweet))\n",
    "for mention in tweepy.Cursor(api.mentions_timeline,since_id=sinceID).items():\n",
    "    splitt = mention.text.split(\" \")\n",
    "    username = mention.user.screen_name\n",
    "    tweetID = mention.id\n",
    "\n",
    "    if clean:\n",
    "        try:\n",
    "            api.destroy_status(tweetID)\n",
    "            print(\"Clean: Deleted\")\n",
    "        except:\n",
    "            print(\"Clean: Skipped\")\n",
    "            continue\n",
    "    else:\n",
    "        try:\n",
    "            pin = splitt[2]\n",
    "            age = int(splitt[3].split(\"+\")[0])\n",
    "            reply = \"@\" + username + \" You have been successfuly subscribed. I will be reminding you when vaccine slot is available at your pincode \" + pin\n",
    "            api.update_status(reply,tweetID)\n",
    "            df = df.append({ \"Username\": username,\"TweetID\": tweetID, \"Pin\": pin, \"Age\": age},ignore_index=True)\n",
    "            print(pin,age,username,tweetID)\n",
    "        except:\n",
    "            reply = \"@\" + username + \" \" + 'There seems to be an error. Please make sure your tweet is in the following format ' + \"errorid:\" + datetime.datetime.now().strftime(\"%Y%m%d%H%M%S\")\n",
    "            file = open(\"ss.jpeg\" , \"rb\")\n",
    "            r1 = api.media_upload(filename=\"ss.jpeg\",file=file)\n",
    "            api.update_status(reply,tweetID,media_ids=[r1.media_id_string])\n",
    "            print(\"Wrong tweet\")\n",
    "            failedTweet.append(tweetID)\n",
    "            continue\n",
    "\n",
    "df.to_csv(\"UserData.csv\",index=False)"
   ],
   "metadata": {
    "collapsed": false,
    "pycharm": {
     "name": "#%%\n"
    }
   }
  },
  {
   "cell_type": "code",
   "execution_count": null,
   "outputs": [],
   "source": [
    "baseURL = \"https://cdn-api.co-vin.in/api/v2/appointment/sessions/public/findByPin?\"\n",
    "df = pd.read_csv(\"UserData.csv\")\n",
    "for date in dates:\n",
    "    for pin in df[\"Pin\"].unique():\n",
    "\n",
    "        completeURL = baseURL+\"date=\"+date + \"&pincode=\" + str(pin)\n",
    "        try:\n",
    "            sessions = requests.get(completeURL).json()[\"sessions\"]\n",
    "        except:\n",
    "            print(\"Failed to get new sessions\")\n",
    "\n",
    "        if sessions:\n",
    "            vaccines = {\"COVISHIELD\" : False, \"COVAXIN\" : False}\n",
    "            minAge = {18:False,45:False}\n",
    "            availableCapacity = sys.maxsize\n",
    "\n",
    "            for session in sessions:\n",
    "                availableCapacity = min(availableCapacity,int(session[\"available_capacity\"]))\n",
    "                vaccines[session[\"vaccine\"]] = True\n",
    "                minAge[session[\"min_age_limit\"]] = True\n",
    "            if minAge[18]:\n",
    "                tweetAt(availableCapacity,vaccines,pin,date,18)\n",
    "            if minAge[45]:\n",
    "                tweetAt(availableCapacity,vaccines,pin,date,45)\n",
    "\n",
    "        else:\n",
    "            continue"
   ],
   "metadata": {
    "collapsed": false,
    "pycharm": {
     "name": "#%%\n"
    }
   }
  },
  {
   "cell_type": "code",
   "execution_count": 118,
   "outputs": [],
   "source": [
    "def tweetAt(availableCapacity,vaccines,pin,date,age):\n",
    "\n",
    "    reply = \"Atleast \" + str(availableCapacity) + \" slot(s) for \" + \" and \".join([v for v,b in vaccines.items() if b == True]) + \" is available for age \" + str(age) + \"+ at pin \" + str(pin) + \" for \" + date\n",
    "    newDF = df.dropna()\n",
    "    tweetIDs = newDF.loc[(df[\"Age\"]==age) & (df[\"Pin\"]==pin),[\"TweetID\"]]\n",
    "\n",
    "    for tweetID in tweetIDs.TweetID:\n",
    "        username = df.loc[df[\"TweetID\"]==tweetID,[\"Username\"]].Username.item()\n",
    "        tweet = \"@\" + username + \" \" + reply\n",
    "        print(tweet)\n",
    "        api.update_status(tweet,tweetID)"
   ],
   "metadata": {
    "collapsed": false,
    "pycharm": {
     "name": "#%%\n"
    }
   }
  },
  {
   "cell_type": "code",
   "execution_count": 156,
   "outputs": [
    {
     "data": {
      "text/plain": "True"
     },
     "execution_count": 156,
     "metadata": {},
     "output_type": "execute_result"
    }
   ],
   "source": [],
   "metadata": {
    "collapsed": false,
    "pycharm": {
     "name": "#%%\n"
    }
   }
  },
  {
   "cell_type": "code",
   "execution_count": 160,
   "outputs": [
    {
     "data": {
      "text/plain": "True"
     },
     "execution_count": 160,
     "metadata": {},
     "output_type": "execute_result"
    }
   ],
   "source": [
    "alert = df.loc[df[\"TweetID\"]==1389614929078935561,[\"Alert\"]].Alert.item()\n",
    "pd.isna(alert) or int(datetime.datetime.now().strftime(\"%d%H%M\")) - alert > 100"
   ],
   "metadata": {
    "collapsed": false,
    "pycharm": {
     "name": "#%%\n"
    }
   }
  },
  {
   "cell_type": "code",
   "execution_count": 146,
   "outputs": [
    {
     "data": {
      "text/plain": "42306"
     },
     "execution_count": 146,
     "metadata": {},
     "output_type": "execute_result"
    }
   ],
   "source": [
    "int(datetime.datetime.now().strftime(\"%d%H%M\"))"
   ],
   "metadata": {
    "collapsed": false,
    "pycharm": {
     "name": "#%%\n"
    }
   }
  },
  {
   "cell_type": "code",
   "execution_count": 177,
   "outputs": [
    {
     "ename": "TypeError",
     "evalue": "unhashable type: 'list'",
     "output_type": "error",
     "traceback": [
      "\u001B[0;31m---------------------------------------------------------------------------\u001B[0m",
      "\u001B[0;31mTypeError\u001B[0m                                 Traceback (most recent call last)",
      "\u001B[0;32m<ipython-input-177-39a02bfed04d>\u001B[0m in \u001B[0;36m<module>\u001B[0;34m\u001B[0m\n\u001B[0;32m----> 1\u001B[0;31m \u001B[0mdf\u001B[0m\u001B[0;34m.\u001B[0m\u001B[0mat\u001B[0m\u001B[0;34m[\u001B[0m\u001B[0mdf\u001B[0m\u001B[0;34m[\u001B[0m\u001B[0;34m\"TweetID\"\u001B[0m\u001B[0;34m]\u001B[0m\u001B[0;34m==\u001B[0m\u001B[0;36m1389614929078935562\u001B[0m\u001B[0;34m,\u001B[0m \u001B[0;34m[\u001B[0m\u001B[0;34m\"Alert\"\u001B[0m\u001B[0;34m]\u001B[0m\u001B[0;34m]\u001B[0m\u001B[0;34m\u001B[0m\u001B[0;34m\u001B[0m\u001B[0m\n\u001B[0m",
      "\u001B[0;32m/usr/local/lib/python3.9/site-packages/pandas/core/indexing.py\u001B[0m in \u001B[0;36m__getitem__\u001B[0;34m(self, key)\u001B[0m\n\u001B[1;32m   2076\u001B[0m             \u001B[0;32mreturn\u001B[0m \u001B[0mself\u001B[0m\u001B[0;34m.\u001B[0m\u001B[0mobj\u001B[0m\u001B[0;34m.\u001B[0m\u001B[0mloc\u001B[0m\u001B[0;34m[\u001B[0m\u001B[0mkey\u001B[0m\u001B[0;34m]\u001B[0m\u001B[0;34m\u001B[0m\u001B[0;34m\u001B[0m\u001B[0m\n\u001B[1;32m   2077\u001B[0m \u001B[0;34m\u001B[0m\u001B[0m\n\u001B[0;32m-> 2078\u001B[0;31m         \u001B[0;32mreturn\u001B[0m \u001B[0msuper\u001B[0m\u001B[0;34m(\u001B[0m\u001B[0;34m)\u001B[0m\u001B[0;34m.\u001B[0m\u001B[0m__getitem__\u001B[0m\u001B[0;34m(\u001B[0m\u001B[0mkey\u001B[0m\u001B[0;34m)\u001B[0m\u001B[0;34m\u001B[0m\u001B[0;34m\u001B[0m\u001B[0m\n\u001B[0m\u001B[1;32m   2079\u001B[0m \u001B[0;34m\u001B[0m\u001B[0m\n\u001B[1;32m   2080\u001B[0m     \u001B[0;32mdef\u001B[0m \u001B[0m__setitem__\u001B[0m\u001B[0;34m(\u001B[0m\u001B[0mself\u001B[0m\u001B[0;34m,\u001B[0m \u001B[0mkey\u001B[0m\u001B[0;34m,\u001B[0m \u001B[0mvalue\u001B[0m\u001B[0;34m)\u001B[0m\u001B[0;34m:\u001B[0m\u001B[0;34m\u001B[0m\u001B[0;34m\u001B[0m\u001B[0m\n",
      "\u001B[0;32m/usr/local/lib/python3.9/site-packages/pandas/core/indexing.py\u001B[0m in \u001B[0;36m__getitem__\u001B[0;34m(self, key)\u001B[0m\n\u001B[1;32m   2023\u001B[0m \u001B[0;34m\u001B[0m\u001B[0m\n\u001B[1;32m   2024\u001B[0m         \u001B[0mkey\u001B[0m \u001B[0;34m=\u001B[0m \u001B[0mself\u001B[0m\u001B[0;34m.\u001B[0m\u001B[0m_convert_key\u001B[0m\u001B[0;34m(\u001B[0m\u001B[0mkey\u001B[0m\u001B[0;34m)\u001B[0m\u001B[0;34m\u001B[0m\u001B[0;34m\u001B[0m\u001B[0m\n\u001B[0;32m-> 2025\u001B[0;31m         \u001B[0;32mreturn\u001B[0m \u001B[0mself\u001B[0m\u001B[0;34m.\u001B[0m\u001B[0mobj\u001B[0m\u001B[0;34m.\u001B[0m\u001B[0m_get_value\u001B[0m\u001B[0;34m(\u001B[0m\u001B[0;34m*\u001B[0m\u001B[0mkey\u001B[0m\u001B[0;34m,\u001B[0m \u001B[0mtakeable\u001B[0m\u001B[0;34m=\u001B[0m\u001B[0mself\u001B[0m\u001B[0;34m.\u001B[0m\u001B[0m_takeable\u001B[0m\u001B[0;34m)\u001B[0m\u001B[0;34m\u001B[0m\u001B[0;34m\u001B[0m\u001B[0m\n\u001B[0m\u001B[1;32m   2026\u001B[0m \u001B[0;34m\u001B[0m\u001B[0m\n\u001B[1;32m   2027\u001B[0m     \u001B[0;32mdef\u001B[0m \u001B[0m__setitem__\u001B[0m\u001B[0;34m(\u001B[0m\u001B[0mself\u001B[0m\u001B[0;34m,\u001B[0m \u001B[0mkey\u001B[0m\u001B[0;34m,\u001B[0m \u001B[0mvalue\u001B[0m\u001B[0;34m)\u001B[0m\u001B[0;34m:\u001B[0m\u001B[0;34m\u001B[0m\u001B[0;34m\u001B[0m\u001B[0m\n",
      "\u001B[0;32m/usr/local/lib/python3.9/site-packages/pandas/core/frame.py\u001B[0m in \u001B[0;36m_get_value\u001B[0;34m(self, index, col, takeable)\u001B[0m\n\u001B[1;32m   3008\u001B[0m             \u001B[0;32mreturn\u001B[0m \u001B[0mseries\u001B[0m\u001B[0;34m.\u001B[0m\u001B[0m_values\u001B[0m\u001B[0;34m[\u001B[0m\u001B[0mindex\u001B[0m\u001B[0;34m]\u001B[0m\u001B[0;34m\u001B[0m\u001B[0;34m\u001B[0m\u001B[0m\n\u001B[1;32m   3009\u001B[0m \u001B[0;34m\u001B[0m\u001B[0m\n\u001B[0;32m-> 3010\u001B[0;31m         \u001B[0mseries\u001B[0m \u001B[0;34m=\u001B[0m \u001B[0mself\u001B[0m\u001B[0;34m.\u001B[0m\u001B[0m_get_item_cache\u001B[0m\u001B[0;34m(\u001B[0m\u001B[0mcol\u001B[0m\u001B[0;34m)\u001B[0m\u001B[0;34m\u001B[0m\u001B[0;34m\u001B[0m\u001B[0m\n\u001B[0m\u001B[1;32m   3011\u001B[0m         \u001B[0mengine\u001B[0m \u001B[0;34m=\u001B[0m \u001B[0mself\u001B[0m\u001B[0;34m.\u001B[0m\u001B[0mindex\u001B[0m\u001B[0;34m.\u001B[0m\u001B[0m_engine\u001B[0m\u001B[0;34m\u001B[0m\u001B[0;34m\u001B[0m\u001B[0m\n\u001B[1;32m   3012\u001B[0m \u001B[0;34m\u001B[0m\u001B[0m\n",
      "\u001B[0;32m/usr/local/lib/python3.9/site-packages/pandas/core/generic.py\u001B[0m in \u001B[0;36m_get_item_cache\u001B[0;34m(self, item)\u001B[0m\n\u001B[1;32m   3535\u001B[0m         \u001B[0;34m\"\"\"Return the cached item, item represents a label indexer.\"\"\"\u001B[0m\u001B[0;34m\u001B[0m\u001B[0;34m\u001B[0m\u001B[0m\n\u001B[1;32m   3536\u001B[0m         \u001B[0mcache\u001B[0m \u001B[0;34m=\u001B[0m \u001B[0mself\u001B[0m\u001B[0;34m.\u001B[0m\u001B[0m_item_cache\u001B[0m\u001B[0;34m\u001B[0m\u001B[0;34m\u001B[0m\u001B[0m\n\u001B[0;32m-> 3537\u001B[0;31m         \u001B[0mres\u001B[0m \u001B[0;34m=\u001B[0m \u001B[0mcache\u001B[0m\u001B[0;34m.\u001B[0m\u001B[0mget\u001B[0m\u001B[0;34m(\u001B[0m\u001B[0mitem\u001B[0m\u001B[0;34m)\u001B[0m\u001B[0;34m\u001B[0m\u001B[0;34m\u001B[0m\u001B[0m\n\u001B[0m\u001B[1;32m   3538\u001B[0m         \u001B[0;32mif\u001B[0m \u001B[0mres\u001B[0m \u001B[0;32mis\u001B[0m \u001B[0;32mNone\u001B[0m\u001B[0;34m:\u001B[0m\u001B[0;34m\u001B[0m\u001B[0;34m\u001B[0m\u001B[0m\n\u001B[1;32m   3539\u001B[0m             \u001B[0;31m# All places that call _get_item_cache have unique columns,\u001B[0m\u001B[0;34m\u001B[0m\u001B[0;34m\u001B[0m\u001B[0;34m\u001B[0m\u001B[0m\n",
      "\u001B[0;31mTypeError\u001B[0m: unhashable type: 'list'"
     ]
    }
   ],
   "source": [
    "df.at[df[\"TweetID\"]==1389614929078935562,]"
   ],
   "metadata": {
    "collapsed": false,
    "pycharm": {
     "name": "#%%\n"
    }
   }
  },
  {
   "cell_type": "code",
   "execution_count": 182,
   "outputs": [
    {
     "ename": "TypeError",
     "evalue": "'_AtIndexer' object is not callable",
     "output_type": "error",
     "traceback": [
      "\u001B[0;31m---------------------------------------------------------------------------\u001B[0m",
      "\u001B[0;31mTypeError\u001B[0m                                 Traceback (most recent call last)",
      "\u001B[0;32m<ipython-input-182-8c3be9cba21f>\u001B[0m in \u001B[0;36m<module>\u001B[0;34m\u001B[0m\n\u001B[0;32m----> 1\u001B[0;31m \u001B[0mdf\u001B[0m\u001B[0;34m.\u001B[0m\u001B[0mat\u001B[0m\u001B[0;34m(\u001B[0m\u001B[0mdf\u001B[0m\u001B[0;34m.\u001B[0m\u001B[0mloc\u001B[0m\u001B[0;34m[\u001B[0m\u001B[0mdf\u001B[0m\u001B[0;34m[\u001B[0m\u001B[0;34m\"TweetID\"\u001B[0m\u001B[0;34m]\u001B[0m\u001B[0;34m==\u001B[0m\u001B[0;36m1389614929078935562\u001B[0m\u001B[0;34m]\u001B[0m\u001B[0;34m,\u001B[0m\u001B[0;34m\"Alert\"\u001B[0m\u001B[0;34m)\u001B[0m\u001B[0;34m\u001B[0m\u001B[0;34m\u001B[0m\u001B[0m\n\u001B[0m",
      "\u001B[0;31mTypeError\u001B[0m: '_AtIndexer' object is not callable"
     ]
    }
   ],
   "source": [
    "df.at(df.iloc[df[\"TweetID\"]==1389614929078935562],\"Alert\")"
   ],
   "metadata": {
    "collapsed": false,
    "pycharm": {
     "name": "#%%\n"
    }
   }
  },
  {
   "cell_type": "code",
   "execution_count": 226,
   "outputs": [],
   "source": [
    "\n",
    "= 4040"
   ],
   "metadata": {
    "collapsed": false,
    "pycharm": {
     "name": "#%%\n"
    }
   }
  },
  {
   "cell_type": "code",
   "execution_count": 227,
   "outputs": [
    {
     "data": {
      "text/plain": "   Username              TweetID     Pin  Age   Alert\n0  get_dash  1389614929078935562  110021   45  4040.0\n1  tush3031  1389614929078935561  400706   18     NaN",
      "text/html": "<div>\n<style scoped>\n    .dataframe tbody tr th:only-of-type {\n        vertical-align: middle;\n    }\n\n    .dataframe tbody tr th {\n        vertical-align: top;\n    }\n\n    .dataframe thead th {\n        text-align: right;\n    }\n</style>\n<table border=\"1\" class=\"dataframe\">\n  <thead>\n    <tr style=\"text-align: right;\">\n      <th></th>\n      <th>Username</th>\n      <th>TweetID</th>\n      <th>Pin</th>\n      <th>Age</th>\n      <th>Alert</th>\n    </tr>\n  </thead>\n  <tbody>\n    <tr>\n      <th>0</th>\n      <td>get_dash</td>\n      <td>1389614929078935562</td>\n      <td>110021</td>\n      <td>45</td>\n      <td>4040.0</td>\n    </tr>\n    <tr>\n      <th>1</th>\n      <td>tush3031</td>\n      <td>1389614929078935561</td>\n      <td>400706</td>\n      <td>18</td>\n      <td>NaN</td>\n    </tr>\n  </tbody>\n</table>\n</div>"
     },
     "execution_count": 227,
     "metadata": {},
     "output_type": "execute_result"
    }
   ],
   "source": [
    "df"
   ],
   "metadata": {
    "collapsed": false,
    "pycharm": {
     "name": "#%%\n"
    }
   }
  },
  {
   "cell_type": "code",
   "execution_count": 25,
   "outputs": [],
   "source": [
    "rel = requests.get(\"https://cdn-api.co-vin.in/api/v2/appointment/sessions/public/findByPin?pincode=110012&date=6-05-2021\")"
   ],
   "metadata": {
    "collapsed": false,
    "pycharm": {
     "name": "#%%\n"
    }
   }
  },
  {
   "cell_type": "code",
   "execution_count": 26,
   "outputs": [
    {
     "ename": "JSONDecodeError",
     "evalue": "Expecting value: line 1 column 1 (char 0)",
     "output_type": "error",
     "traceback": [
      "\u001B[0;31m---------------------------------------------------------------------------\u001B[0m",
      "\u001B[0;31mJSONDecodeError\u001B[0m                           Traceback (most recent call last)",
      "\u001B[0;32m<ipython-input-26-c3e695773df8>\u001B[0m in \u001B[0;36m<module>\u001B[0;34m\u001B[0m\n\u001B[0;32m----> 1\u001B[0;31m \u001B[0mrel\u001B[0m\u001B[0;34m.\u001B[0m\u001B[0mjson\u001B[0m\u001B[0;34m(\u001B[0m\u001B[0;34m)\u001B[0m\u001B[0;34m\u001B[0m\u001B[0;34m\u001B[0m\u001B[0m\n\u001B[0m",
      "\u001B[0;32m/usr/local/lib/python3.9/site-packages/requests/models.py\u001B[0m in \u001B[0;36mjson\u001B[0;34m(self, **kwargs)\u001B[0m\n\u001B[1;32m    824\u001B[0m                     \u001B[0;31m# used.\u001B[0m\u001B[0;34m\u001B[0m\u001B[0;34m\u001B[0m\u001B[0;34m\u001B[0m\u001B[0m\n\u001B[1;32m    825\u001B[0m                     \u001B[0;32mpass\u001B[0m\u001B[0;34m\u001B[0m\u001B[0;34m\u001B[0m\u001B[0m\n\u001B[0;32m--> 826\u001B[0;31m         \u001B[0;32mreturn\u001B[0m \u001B[0mcomplexjson\u001B[0m\u001B[0;34m.\u001B[0m\u001B[0mloads\u001B[0m\u001B[0;34m(\u001B[0m\u001B[0mself\u001B[0m\u001B[0;34m.\u001B[0m\u001B[0mtext\u001B[0m\u001B[0;34m,\u001B[0m \u001B[0;34m**\u001B[0m\u001B[0mkwargs\u001B[0m\u001B[0;34m)\u001B[0m\u001B[0;34m\u001B[0m\u001B[0;34m\u001B[0m\u001B[0m\n\u001B[0m\u001B[1;32m    827\u001B[0m \u001B[0;34m\u001B[0m\u001B[0m\n\u001B[1;32m    828\u001B[0m     \u001B[0;34m@\u001B[0m\u001B[0mproperty\u001B[0m\u001B[0;34m\u001B[0m\u001B[0;34m\u001B[0m\u001B[0m\n",
      "\u001B[0;32m/usr/local/Cellar/python@3.9/3.9.2_1/Frameworks/Python.framework/Versions/3.9/lib/python3.9/json/__init__.py\u001B[0m in \u001B[0;36mloads\u001B[0;34m(s, cls, object_hook, parse_float, parse_int, parse_constant, object_pairs_hook, **kw)\u001B[0m\n\u001B[1;32m    344\u001B[0m             \u001B[0mparse_int\u001B[0m \u001B[0;32mis\u001B[0m \u001B[0;32mNone\u001B[0m \u001B[0;32mand\u001B[0m \u001B[0mparse_float\u001B[0m \u001B[0;32mis\u001B[0m \u001B[0;32mNone\u001B[0m \u001B[0;32mand\u001B[0m\u001B[0;34m\u001B[0m\u001B[0;34m\u001B[0m\u001B[0m\n\u001B[1;32m    345\u001B[0m             parse_constant is None and object_pairs_hook is None and not kw):\n\u001B[0;32m--> 346\u001B[0;31m         \u001B[0;32mreturn\u001B[0m \u001B[0m_default_decoder\u001B[0m\u001B[0;34m.\u001B[0m\u001B[0mdecode\u001B[0m\u001B[0;34m(\u001B[0m\u001B[0ms\u001B[0m\u001B[0;34m)\u001B[0m\u001B[0;34m\u001B[0m\u001B[0;34m\u001B[0m\u001B[0m\n\u001B[0m\u001B[1;32m    347\u001B[0m     \u001B[0;32mif\u001B[0m \u001B[0mcls\u001B[0m \u001B[0;32mis\u001B[0m \u001B[0;32mNone\u001B[0m\u001B[0;34m:\u001B[0m\u001B[0;34m\u001B[0m\u001B[0;34m\u001B[0m\u001B[0m\n\u001B[1;32m    348\u001B[0m         \u001B[0mcls\u001B[0m \u001B[0;34m=\u001B[0m \u001B[0mJSONDecoder\u001B[0m\u001B[0;34m\u001B[0m\u001B[0;34m\u001B[0m\u001B[0m\n",
      "\u001B[0;32m/usr/local/Cellar/python@3.9/3.9.2_1/Frameworks/Python.framework/Versions/3.9/lib/python3.9/json/decoder.py\u001B[0m in \u001B[0;36mdecode\u001B[0;34m(self, s, _w)\u001B[0m\n\u001B[1;32m    335\u001B[0m \u001B[0;34m\u001B[0m\u001B[0m\n\u001B[1;32m    336\u001B[0m         \"\"\"\n\u001B[0;32m--> 337\u001B[0;31m         \u001B[0mobj\u001B[0m\u001B[0;34m,\u001B[0m \u001B[0mend\u001B[0m \u001B[0;34m=\u001B[0m \u001B[0mself\u001B[0m\u001B[0;34m.\u001B[0m\u001B[0mraw_decode\u001B[0m\u001B[0;34m(\u001B[0m\u001B[0ms\u001B[0m\u001B[0;34m,\u001B[0m \u001B[0midx\u001B[0m\u001B[0;34m=\u001B[0m\u001B[0m_w\u001B[0m\u001B[0;34m(\u001B[0m\u001B[0ms\u001B[0m\u001B[0;34m,\u001B[0m \u001B[0;36m0\u001B[0m\u001B[0;34m)\u001B[0m\u001B[0;34m.\u001B[0m\u001B[0mend\u001B[0m\u001B[0;34m(\u001B[0m\u001B[0;34m)\u001B[0m\u001B[0;34m)\u001B[0m\u001B[0;34m\u001B[0m\u001B[0;34m\u001B[0m\u001B[0m\n\u001B[0m\u001B[1;32m    338\u001B[0m         \u001B[0mend\u001B[0m \u001B[0;34m=\u001B[0m \u001B[0m_w\u001B[0m\u001B[0;34m(\u001B[0m\u001B[0ms\u001B[0m\u001B[0;34m,\u001B[0m \u001B[0mend\u001B[0m\u001B[0;34m)\u001B[0m\u001B[0;34m.\u001B[0m\u001B[0mend\u001B[0m\u001B[0;34m(\u001B[0m\u001B[0;34m)\u001B[0m\u001B[0;34m\u001B[0m\u001B[0;34m\u001B[0m\u001B[0m\n\u001B[1;32m    339\u001B[0m         \u001B[0;32mif\u001B[0m \u001B[0mend\u001B[0m \u001B[0;34m!=\u001B[0m \u001B[0mlen\u001B[0m\u001B[0;34m(\u001B[0m\u001B[0ms\u001B[0m\u001B[0;34m)\u001B[0m\u001B[0;34m:\u001B[0m\u001B[0;34m\u001B[0m\u001B[0;34m\u001B[0m\u001B[0m\n",
      "\u001B[0;32m/usr/local/Cellar/python@3.9/3.9.2_1/Frameworks/Python.framework/Versions/3.9/lib/python3.9/json/decoder.py\u001B[0m in \u001B[0;36mraw_decode\u001B[0;34m(self, s, idx)\u001B[0m\n\u001B[1;32m    353\u001B[0m             \u001B[0mobj\u001B[0m\u001B[0;34m,\u001B[0m \u001B[0mend\u001B[0m \u001B[0;34m=\u001B[0m \u001B[0mself\u001B[0m\u001B[0;34m.\u001B[0m\u001B[0mscan_once\u001B[0m\u001B[0;34m(\u001B[0m\u001B[0ms\u001B[0m\u001B[0;34m,\u001B[0m \u001B[0midx\u001B[0m\u001B[0;34m)\u001B[0m\u001B[0;34m\u001B[0m\u001B[0;34m\u001B[0m\u001B[0m\n\u001B[1;32m    354\u001B[0m         \u001B[0;32mexcept\u001B[0m \u001B[0mStopIteration\u001B[0m \u001B[0;32mas\u001B[0m \u001B[0merr\u001B[0m\u001B[0;34m:\u001B[0m\u001B[0;34m\u001B[0m\u001B[0;34m\u001B[0m\u001B[0m\n\u001B[0;32m--> 355\u001B[0;31m             \u001B[0;32mraise\u001B[0m \u001B[0mJSONDecodeError\u001B[0m\u001B[0;34m(\u001B[0m\u001B[0;34m\"Expecting value\"\u001B[0m\u001B[0;34m,\u001B[0m \u001B[0ms\u001B[0m\u001B[0;34m,\u001B[0m \u001B[0merr\u001B[0m\u001B[0;34m.\u001B[0m\u001B[0mvalue\u001B[0m\u001B[0;34m)\u001B[0m \u001B[0;32mfrom\u001B[0m \u001B[0;32mNone\u001B[0m\u001B[0;34m\u001B[0m\u001B[0;34m\u001B[0m\u001B[0m\n\u001B[0m\u001B[1;32m    356\u001B[0m         \u001B[0;32mreturn\u001B[0m \u001B[0mobj\u001B[0m\u001B[0;34m,\u001B[0m \u001B[0mend\u001B[0m\u001B[0;34m\u001B[0m\u001B[0;34m\u001B[0m\u001B[0m\n",
      "\u001B[0;31mJSONDecodeError\u001B[0m: Expecting value: line 1 column 1 (char 0)"
     ]
    }
   ],
   "source": [
    "rel.json()"
   ],
   "metadata": {
    "collapsed": false,
    "pycharm": {
     "name": "#%%\n"
    }
   }
  },
  {
   "cell_type": "code",
   "execution_count": 27,
   "outputs": [
    {
     "data": {
      "text/plain": "'<!DOCTYPE HTML PUBLIC \"-//W3C//DTD HTML 4.01 Transitional//EN\" \"http://www.w3.org/TR/html4/loose.dtd\">\\n<HTML><HEAD><META HTTP-EQUIV=\"Content-Type\" CONTENT=\"text/html; charset=iso-8859-1\">\\n<TITLE>ERROR: The request could not be satisfied</TITLE>\\n</HEAD><BODY>\\n<H1>403 ERROR</H1>\\n<H2>The request could not be satisfied.</H2>\\n<HR noshade size=\"1px\">\\nRequest blocked.\\nWe can\\'t connect to the server for this app or website at this time. There might be too much traffic or a configuration error. Try again later, or contact the app or website owner.\\n<BR clear=\"all\">\\nIf you provide content to customers through CloudFront, you can find steps to troubleshoot and help prevent this error by reviewing the CloudFront documentation.\\n<BR clear=\"all\">\\n<HR noshade size=\"1px\">\\n<PRE>\\nGenerated by cloudfront (CloudFront)\\nRequest ID: lSh3GWw9Rryw3-DsVmF9kNBfK3EI6FVs95VmCmdc_QQineDH7vzfpw==\\n</PRE>\\n<ADDRESS>\\n</ADDRESS>\\n</BODY></HTML>'"
     },
     "execution_count": 27,
     "metadata": {},
     "output_type": "execute_result"
    }
   ],
   "source": [
    "rel.text"
   ],
   "metadata": {
    "collapsed": false,
    "pycharm": {
     "name": "#%%\n"
    }
   }
  },
  {
   "cell_type": "code",
   "execution_count": 28,
   "outputs": [
    {
     "data": {
      "text/plain": "403"
     },
     "execution_count": 28,
     "metadata": {},
     "output_type": "execute_result"
    }
   ],
   "source": [
    "rel.status_code"
   ],
   "metadata": {
    "collapsed": false,
    "pycharm": {
     "name": "#%%\n"
    }
   }
  },
  {
   "cell_type": "code",
   "execution_count": 5,
   "outputs": [],
   "source": [
    "mentions = api.mentions_timeline()"
   ],
   "metadata": {
    "collapsed": false,
    "pycharm": {
     "name": "#%%\n"
    }
   }
  },
  {
   "cell_type": "code",
   "execution_count": 8,
   "outputs": [
    {
     "name": "stdout",
     "output_type": "stream",
     "text": [
      "True\n",
      "True\n"
     ]
    }
   ],
   "source": [
    "for mention in mentions:\n",
    "    print(\"subscribe\" in mention.text)"
   ],
   "metadata": {
    "collapsed": false,
    "pycharm": {
     "name": "#%%\n"
    }
   }
  },
  {
   "cell_type": "code",
   "execution_count": null,
   "outputs": [
    {
     "name": "stderr",
     "output_type": "stream",
     "text": [
      "  0%|          | 21/10000 [03:34<28:15:41, 10.20s/it]\n"
     ]
    },
    {
     "ename": "KeyboardInterrupt",
     "evalue": "",
     "output_type": "error",
     "traceback": [
      "\u001B[0;31m---------------------------------------------------------------------------\u001B[0m",
      "\u001B[0;31mKeyboardInterrupt\u001B[0m                         Traceback (most recent call last)",
      "\u001B[0;32m<ipython-input-15-f9b77cde473a>\u001B[0m in \u001B[0;36m<module>\u001B[0;34m\u001B[0m\n\u001B[1;32m      1\u001B[0m \u001B[0;32mfor\u001B[0m \u001B[0mi\u001B[0m \u001B[0;32min\u001B[0m \u001B[0mtqdm\u001B[0m\u001B[0;34m(\u001B[0m\u001B[0mrange\u001B[0m\u001B[0;34m(\u001B[0m\u001B[0;36m10000\u001B[0m\u001B[0;34m)\u001B[0m\u001B[0;34m)\u001B[0m\u001B[0;34m:\u001B[0m\u001B[0;34m\u001B[0m\u001B[0;34m\u001B[0m\u001B[0m\n\u001B[0;32m----> 2\u001B[0;31m     \u001B[0mtime\u001B[0m\u001B[0;34m.\u001B[0m\u001B[0msleep\u001B[0m\u001B[0;34m(\u001B[0m\u001B[0;34m(\u001B[0m\u001B[0;36m10\u001B[0m\u001B[0;34m)\u001B[0m\u001B[0;34m)\u001B[0m\u001B[0;34m\u001B[0m\u001B[0;34m\u001B[0m\u001B[0m\n\u001B[0m\u001B[1;32m      3\u001B[0m     \u001B[0;32mpass\u001B[0m\u001B[0;34m\u001B[0m\u001B[0;34m\u001B[0m\u001B[0m\n\u001B[1;32m      4\u001B[0m \u001B[0;34m\u001B[0m\u001B[0m\n",
      "\u001B[0;31mKeyboardInterrupt\u001B[0m: "
     ]
    }
   ],
   "source": [
    "toolbar_width = 40\n",
    "\n",
    "# setup toolbar\n",
    "sys.stdout.write(\"[%s]\" % (\" \" * toolbar_width))\n",
    "sys.stdout.flush()\n",
    "sys.stdout.write(\"\\b\" * (toolbar_width+1)) # return to start of line, after '['\n",
    "\n",
    "for i in xrange(toolbar_width):\n",
    "    time.sleep(0.1) # do real work here\n",
    "    # update the bar\n",
    "    sys.stdout.write(\"-\")\n",
    "    sys.stdout.flush()\n",
    "\n",
    "sys.stdout.write(\"]\\n\")"
   ],
   "metadata": {
    "collapsed": false,
    "pycharm": {
     "name": "#%%\n"
    }
   }
  },
  {
   "cell_type": "code",
   "execution_count": 74,
   "outputs": [],
   "source": [],
   "metadata": {
    "collapsed": false,
    "pycharm": {
     "name": "#%%\n"
    }
   }
  },
  {
   "cell_type": "code",
   "execution_count": 85,
   "outputs": [
    {
     "name": "stdout",
     "output_type": "stream",
     "text": [
      "▓▓░░░░░░░░░░░░░10%\n",
      "145271186 of 1390885000 people vaccinated\n"
     ]
    }
   ],
   "source": [],
   "metadata": {
    "collapsed": false,
    "pycharm": {
     "name": "#%%\n"
    }
   }
  },
  {
   "cell_type": "code",
   "execution_count": 95,
   "outputs": [],
   "source": [
    "response = requests.get(\"http://api.covid19india.org/csv/latest/vaccine_doses_statewise.csv\")"
   ],
   "metadata": {
    "collapsed": false,
    "pycharm": {
     "name": "#%%\n"
    }
   }
  },
  {
   "cell_type": "code",
   "execution_count": 123,
   "outputs": [
    {
     "data": {
      "text/plain": "'vaccine_doses_statewise.csv'"
     },
     "execution_count": 123,
     "metadata": {},
     "output_type": "execute_result"
    }
   ],
   "source": [],
   "metadata": {
    "collapsed": false,
    "pycharm": {
     "name": "#%%\n"
    }
   }
  },
  {
   "cell_type": "code",
   "execution_count": 99,
   "outputs": [],
   "source": [],
   "metadata": {
    "collapsed": false,
    "pycharm": {
     "name": "#%%\n"
    }
   }
  },
  {
   "cell_type": "code",
   "execution_count": 128,
   "outputs": [
    {
     "data": {
      "text/plain": "162513339"
     },
     "execution_count": 128,
     "metadata": {},
     "output_type": "execute_result"
    }
   ],
   "source": [
    "df = pd.read_csv(\"vaccine_doses_statewise.csv\")\n",
    "download_file(\"http://api.covid19india.org/csv/latest/vaccine_doses_statewise.csv\")\n",
    "df[(datetime.date.today() + datetime.timedelta(days=-2)).strftime(\"%d/%m/%Y\")].iloc[-1]"
   ],
   "metadata": {
    "collapsed": false,
    "pycharm": {
     "name": "#%%\n"
    }
   }
  },
  {
   "cell_type": "code",
   "execution_count": 124,
   "outputs": [
    {
     "data": {
      "text/plain": "                                       State  16/01/2021  18/01/2021  \\\n0                Andaman and Nicobar Islands         225         442   \n1                             Andhra Pradesh       18412       46680   \n2                          Arunachal Pradesh         829        2805   \n3                                      Assam        3528        5542   \n4                                      Bihar       18169       33389   \n5                                 Chandigarh         265         265   \n6                               Chhattisgarh        5592       10872   \n7   Dadra and Nagar Haveli and Daman and Diu         123         123   \n8                                      Delhi        4319        7968   \n9                                        Goa         426         426   \n10                                   Gujarat       10787       10787   \n11                                   Haryana        5589       17642   \n12                          Himachal Pradesh        1517        4817   \n13                         Jammu and Kashmir        2044        3375   \n14                                 Jharkhand        3096        6059   \n15                                 Karnataka       13594       66392   \n16                                    Kerala        8062       15477   \n17                                    Ladakh          79         119   \n18                               Lakshadweep          21         201   \n19                            Madhya Pradesh        9219       18174   \n20                               Maharashtra       18328       18582   \n21                                   Manipur         585         978   \n22                                 Meghalaya         509         530   \n23                                   Mizoram         314         554   \n24                                  Nagaland         561        1436   \n25                                    Odisha       13746       46506   \n26                                Puducherry         274         554   \n27                                    Punjab        1319        3318   \n28                                 Rajasthan        9279       23546   \n29                                    Sikkim         120         120   \n30                                Tamil Nadu        2945       16462   \n31                                 Telangana        3653       17408   \n32                                   Tripura         355        1736   \n33                             Uttar Pradesh       21291       22644   \n34                               Uttarakhand        2276        4237   \n35                               West Bengal        9730       29866   \n36                             Miscellaneous           0       14017   \n37                                     Total      191181      454049   \n\n    19/01/2021  20/01/2021  21/01/2021  22/01/2021  23/01/2021  24/01/2021  \\\n0          644         644        1032        1466        1998        2019   \n1        58495       91778      115365      133298      147030      147030   \n2         2805        3023        4682        5956        6511        6511   \n3         7418        7585       10676       13881       13881       13881   \n4        42085       47433       63541       63620       76125       76125   \n5          469         469         753        1157        1502        1502   \n6        10872       16255       22171       22259       28732       28732   \n7          208         219         278         356         628         628   \n8        12441       12902       18844       18844       25811       25811   \n9          426         426         426         946        1561        1561   \n10       17581       21832       34865       46150       78466       78466   \n11       24944       30402       45893       62142       71297       72204   \n12        5049        5094        5790        9609       13544       13544   \n13        4395        4414        6847        9827       11647       11647   \n14        8824       11641       11641       14806       14806       14806   \n15       80686      121466      138807      184699      188971      191449   \n16       23855       24269       35173       47293       53529       53529   \n17         119         240         240         401         558         558   \n18         369         369         369         552         633         633   \n19       18174       27770       38278       38278       38278       38278   \n20       30247       52055       52393       74960       99885       99885   \n21         111        1454        1454        1923        2319        2319   \n22        1037        1365        1785        2078        2236        2236   \n23        1091        1508        2537        3657        3979        3979   \n24        2286        2988        3187        3443        3443        3443   \n25       55138       68743      113623      130007      152371      152371   \n26         719         759         759        1097        1478        1478   \n27        5567        7607       12532       21340       30319       31327   \n28       30761       32379       32379       43947       67270       93525   \n29         350         573         773         960         960         960   \n30       25251       33670       42947       51651       59226       61720   \n31       69405       69405       97087      110031      110031      110031   \n32        3734        3734        9272       14252       14252       14252   \n33       22644       22644       22644      123761      123761      123761   \n34        6107        6119        8206       10514       10514       10514   \n35       42093       46310       53988       84505       84505       84505   \n36       14017       26940       32297       36926       40144       40284   \n37      630417      806484     1043534     1390592     1582201     1615504   \n\n    25/01/2021  ...  26/04/2021  27/04/2021  28/04/2021  29/04/2021  \\\n0         2369  ...       99109      100588      101770      102998   \n1       156120  ...     5986822     6177974     6282487     6354053   \n2         7307  ...      216946      222159      227858      234727   \n3        19837  ...     2105788     2193900     2244119     2351160   \n4        88450  ...     6558814     6662906     6762510     6870911   \n5         1928  ...      184251      190041      196055      201905   \n6        40025  ...     5406347     5438705     5469712     5507583   \n7          665  ...       91408       92300       93189       94148   \n8        33219  ...     3061554     3114865     3147918     3224939   \n9         1796  ...      313027      323227      331731      340743   \n10       91927  ...    11721269    11901842    12054863    12252678   \n11      105419  ...     3595088     3635311     3676169     3723570   \n12       13544  ...     1593316     1644503     1689860     1743167   \n13       16173  ...     2127064     2187530     2256800     2311437   \n14       18413  ...     3005467     3029162     3053169     3083133   \n15      231172  ...     8892708     9088473     9277544     9400389   \n16       71973  ...     6991400     7107072     7144122     7229229   \n17         670  ...      100904      103717      105915      107405   \n18         676  ...       21755       21965       22157       22650   \n19       67083  ...     7991717     8010424     8071748     8076994   \n20      136901  ...    14906543    15322367    15578162    15871153   \n21        2485  ...      192280      200765      214237      228344   \n22        2748  ...      225514      242595      258998      275100   \n23        4852  ...      223439      235159      243917      250446   \n24        3675  ...      178196      183203      189765      195429   \n25      177090  ...     5618057     5694155     5743455     5779022   \n26        1813  ...      185167      187823      190734      193884   \n27       39418  ...     3086085     3131631     3211821     3294001   \n28      161116  ...    12543221    12659815    12812973    12936911   \n29        1047  ...      189953      193834      196919      200586   \n30       69027  ...     5484633     5626091     5741587     5845888   \n31      130390  ...     4287852     4400436     4543288     4613191   \n32       19698  ...     1067301     1113957     1140674     1190622   \n33      123761  ...    11947728    12061303    12169510    12355555   \n34       14546  ...     1918491     1951517     1990231     2033587   \n35      122851  ...    10230498    10438235    10632087    10782136   \n36       43625  ...     2921474     2937817     2952594     2965505   \n37     2023809  ...   145271186   147827367   150020648   152245179   \n\n    30/04/2021  01/05/2021  02/05/2021  03/05/2021  04/05/2021  05/05/2021  \n0       104374      105163      105286      106203      106880      107756  \n1      6579817     6700248     6696306     6729038     6742700     6916457  \n2       241483      245633      246582      252285      256520      261355  \n3      2484613     2573549     2590276     2673320     2746508     2779689  \n4      6968234     7048944     7111275     7217903     7328118     7430164  \n5       208489      213274      215893      220155      224778      229618  \n6      5571099     5622933     5647085     5679195     5705613     5732278  \n7        95496       96404       96619       97424       98230       99132  \n8      3272128     3328646     3324922     3414208     3504708     3572311  \n9       349718      355730      358279      363309      368247      373028  \n10    12458508    12749030    12802651    12950608    13070486    13231478  \n11     3758515     3779724     3796842     3854442     3924560     3984064  \n12     1793402     1823976     1828953     1870302     1913334     1945930  \n13     2348263     2378556     2415454     2464052     2497828     2550299  \n14     3114124     3139573     3146822     3164312     3182602     3205030  \n15     9643472     9782183     9817397     9892349     9948331    10111482  \n16     7377186     7428920     7426164     7508437     7572175     7594821  \n17      108513      109478      109694      111013      112784      115057  \n18       23140       23455       23686       23959       24303       24676  \n19     8079528     8151801     8154921     8222982     8242734     8357417  \n20    16184823    16322336    16342758    16422152    16520873    16781719  \n21      250314      263802      266790      281266      291900      304066  \n22      290726      297967      298409      307070      314393      320713  \n23      256096      258922      258815      263585      267429      270992  \n24      198814      199986      200268      205169      209616      213112  \n25     5857731     5872738     5874407     5916461     5944620     5967765  \n26      197790      199906      200026      202468      204352      206992  \n27     3394738     3477671     3498523     3532229     3551466     3627732  \n28    13022322    13092779    13173426    13338393    13474448    13597367  \n29      203966      205129      204990      207514      209932      212161  \n30     5947800     6045628     6046284     6123161     6188845     6249242  \n31     4781228     4788950     4787533     4814401     4878695     4956957  \n32     1237738     1261437     1267062     1282367     1301258     1319613  \n33    12559034    12720794    12705514    12865305    13024883    13175325  \n34     2076143     2096753     2101879     2111065     2139623     2182985  \n35    10972478    11064671    11066286    11243084    11385336    11475371  \n36     2977792     2989342     2990130     3001735     3015080     3029185  \n37   154989635   156816031   157198207   158932921   160494188   162513339  \n\n[38 rows x 110 columns]",
      "text/html": "<div>\n<style scoped>\n    .dataframe tbody tr th:only-of-type {\n        vertical-align: middle;\n    }\n\n    .dataframe tbody tr th {\n        vertical-align: top;\n    }\n\n    .dataframe thead th {\n        text-align: right;\n    }\n</style>\n<table border=\"1\" class=\"dataframe\">\n  <thead>\n    <tr style=\"text-align: right;\">\n      <th></th>\n      <th>State</th>\n      <th>16/01/2021</th>\n      <th>18/01/2021</th>\n      <th>19/01/2021</th>\n      <th>20/01/2021</th>\n      <th>21/01/2021</th>\n      <th>22/01/2021</th>\n      <th>23/01/2021</th>\n      <th>24/01/2021</th>\n      <th>25/01/2021</th>\n      <th>...</th>\n      <th>26/04/2021</th>\n      <th>27/04/2021</th>\n      <th>28/04/2021</th>\n      <th>29/04/2021</th>\n      <th>30/04/2021</th>\n      <th>01/05/2021</th>\n      <th>02/05/2021</th>\n      <th>03/05/2021</th>\n      <th>04/05/2021</th>\n      <th>05/05/2021</th>\n    </tr>\n  </thead>\n  <tbody>\n    <tr>\n      <th>0</th>\n      <td>Andaman and Nicobar Islands</td>\n      <td>225</td>\n      <td>442</td>\n      <td>644</td>\n      <td>644</td>\n      <td>1032</td>\n      <td>1466</td>\n      <td>1998</td>\n      <td>2019</td>\n      <td>2369</td>\n      <td>...</td>\n      <td>99109</td>\n      <td>100588</td>\n      <td>101770</td>\n      <td>102998</td>\n      <td>104374</td>\n      <td>105163</td>\n      <td>105286</td>\n      <td>106203</td>\n      <td>106880</td>\n      <td>107756</td>\n    </tr>\n    <tr>\n      <th>1</th>\n      <td>Andhra Pradesh</td>\n      <td>18412</td>\n      <td>46680</td>\n      <td>58495</td>\n      <td>91778</td>\n      <td>115365</td>\n      <td>133298</td>\n      <td>147030</td>\n      <td>147030</td>\n      <td>156120</td>\n      <td>...</td>\n      <td>5986822</td>\n      <td>6177974</td>\n      <td>6282487</td>\n      <td>6354053</td>\n      <td>6579817</td>\n      <td>6700248</td>\n      <td>6696306</td>\n      <td>6729038</td>\n      <td>6742700</td>\n      <td>6916457</td>\n    </tr>\n    <tr>\n      <th>2</th>\n      <td>Arunachal Pradesh</td>\n      <td>829</td>\n      <td>2805</td>\n      <td>2805</td>\n      <td>3023</td>\n      <td>4682</td>\n      <td>5956</td>\n      <td>6511</td>\n      <td>6511</td>\n      <td>7307</td>\n      <td>...</td>\n      <td>216946</td>\n      <td>222159</td>\n      <td>227858</td>\n      <td>234727</td>\n      <td>241483</td>\n      <td>245633</td>\n      <td>246582</td>\n      <td>252285</td>\n      <td>256520</td>\n      <td>261355</td>\n    </tr>\n    <tr>\n      <th>3</th>\n      <td>Assam</td>\n      <td>3528</td>\n      <td>5542</td>\n      <td>7418</td>\n      <td>7585</td>\n      <td>10676</td>\n      <td>13881</td>\n      <td>13881</td>\n      <td>13881</td>\n      <td>19837</td>\n      <td>...</td>\n      <td>2105788</td>\n      <td>2193900</td>\n      <td>2244119</td>\n      <td>2351160</td>\n      <td>2484613</td>\n      <td>2573549</td>\n      <td>2590276</td>\n      <td>2673320</td>\n      <td>2746508</td>\n      <td>2779689</td>\n    </tr>\n    <tr>\n      <th>4</th>\n      <td>Bihar</td>\n      <td>18169</td>\n      <td>33389</td>\n      <td>42085</td>\n      <td>47433</td>\n      <td>63541</td>\n      <td>63620</td>\n      <td>76125</td>\n      <td>76125</td>\n      <td>88450</td>\n      <td>...</td>\n      <td>6558814</td>\n      <td>6662906</td>\n      <td>6762510</td>\n      <td>6870911</td>\n      <td>6968234</td>\n      <td>7048944</td>\n      <td>7111275</td>\n      <td>7217903</td>\n      <td>7328118</td>\n      <td>7430164</td>\n    </tr>\n    <tr>\n      <th>5</th>\n      <td>Chandigarh</td>\n      <td>265</td>\n      <td>265</td>\n      <td>469</td>\n      <td>469</td>\n      <td>753</td>\n      <td>1157</td>\n      <td>1502</td>\n      <td>1502</td>\n      <td>1928</td>\n      <td>...</td>\n      <td>184251</td>\n      <td>190041</td>\n      <td>196055</td>\n      <td>201905</td>\n      <td>208489</td>\n      <td>213274</td>\n      <td>215893</td>\n      <td>220155</td>\n      <td>224778</td>\n      <td>229618</td>\n    </tr>\n    <tr>\n      <th>6</th>\n      <td>Chhattisgarh</td>\n      <td>5592</td>\n      <td>10872</td>\n      <td>10872</td>\n      <td>16255</td>\n      <td>22171</td>\n      <td>22259</td>\n      <td>28732</td>\n      <td>28732</td>\n      <td>40025</td>\n      <td>...</td>\n      <td>5406347</td>\n      <td>5438705</td>\n      <td>5469712</td>\n      <td>5507583</td>\n      <td>5571099</td>\n      <td>5622933</td>\n      <td>5647085</td>\n      <td>5679195</td>\n      <td>5705613</td>\n      <td>5732278</td>\n    </tr>\n    <tr>\n      <th>7</th>\n      <td>Dadra and Nagar Haveli and Daman and Diu</td>\n      <td>123</td>\n      <td>123</td>\n      <td>208</td>\n      <td>219</td>\n      <td>278</td>\n      <td>356</td>\n      <td>628</td>\n      <td>628</td>\n      <td>665</td>\n      <td>...</td>\n      <td>91408</td>\n      <td>92300</td>\n      <td>93189</td>\n      <td>94148</td>\n      <td>95496</td>\n      <td>96404</td>\n      <td>96619</td>\n      <td>97424</td>\n      <td>98230</td>\n      <td>99132</td>\n    </tr>\n    <tr>\n      <th>8</th>\n      <td>Delhi</td>\n      <td>4319</td>\n      <td>7968</td>\n      <td>12441</td>\n      <td>12902</td>\n      <td>18844</td>\n      <td>18844</td>\n      <td>25811</td>\n      <td>25811</td>\n      <td>33219</td>\n      <td>...</td>\n      <td>3061554</td>\n      <td>3114865</td>\n      <td>3147918</td>\n      <td>3224939</td>\n      <td>3272128</td>\n      <td>3328646</td>\n      <td>3324922</td>\n      <td>3414208</td>\n      <td>3504708</td>\n      <td>3572311</td>\n    </tr>\n    <tr>\n      <th>9</th>\n      <td>Goa</td>\n      <td>426</td>\n      <td>426</td>\n      <td>426</td>\n      <td>426</td>\n      <td>426</td>\n      <td>946</td>\n      <td>1561</td>\n      <td>1561</td>\n      <td>1796</td>\n      <td>...</td>\n      <td>313027</td>\n      <td>323227</td>\n      <td>331731</td>\n      <td>340743</td>\n      <td>349718</td>\n      <td>355730</td>\n      <td>358279</td>\n      <td>363309</td>\n      <td>368247</td>\n      <td>373028</td>\n    </tr>\n    <tr>\n      <th>10</th>\n      <td>Gujarat</td>\n      <td>10787</td>\n      <td>10787</td>\n      <td>17581</td>\n      <td>21832</td>\n      <td>34865</td>\n      <td>46150</td>\n      <td>78466</td>\n      <td>78466</td>\n      <td>91927</td>\n      <td>...</td>\n      <td>11721269</td>\n      <td>11901842</td>\n      <td>12054863</td>\n      <td>12252678</td>\n      <td>12458508</td>\n      <td>12749030</td>\n      <td>12802651</td>\n      <td>12950608</td>\n      <td>13070486</td>\n      <td>13231478</td>\n    </tr>\n    <tr>\n      <th>11</th>\n      <td>Haryana</td>\n      <td>5589</td>\n      <td>17642</td>\n      <td>24944</td>\n      <td>30402</td>\n      <td>45893</td>\n      <td>62142</td>\n      <td>71297</td>\n      <td>72204</td>\n      <td>105419</td>\n      <td>...</td>\n      <td>3595088</td>\n      <td>3635311</td>\n      <td>3676169</td>\n      <td>3723570</td>\n      <td>3758515</td>\n      <td>3779724</td>\n      <td>3796842</td>\n      <td>3854442</td>\n      <td>3924560</td>\n      <td>3984064</td>\n    </tr>\n    <tr>\n      <th>12</th>\n      <td>Himachal Pradesh</td>\n      <td>1517</td>\n      <td>4817</td>\n      <td>5049</td>\n      <td>5094</td>\n      <td>5790</td>\n      <td>9609</td>\n      <td>13544</td>\n      <td>13544</td>\n      <td>13544</td>\n      <td>...</td>\n      <td>1593316</td>\n      <td>1644503</td>\n      <td>1689860</td>\n      <td>1743167</td>\n      <td>1793402</td>\n      <td>1823976</td>\n      <td>1828953</td>\n      <td>1870302</td>\n      <td>1913334</td>\n      <td>1945930</td>\n    </tr>\n    <tr>\n      <th>13</th>\n      <td>Jammu and Kashmir</td>\n      <td>2044</td>\n      <td>3375</td>\n      <td>4395</td>\n      <td>4414</td>\n      <td>6847</td>\n      <td>9827</td>\n      <td>11647</td>\n      <td>11647</td>\n      <td>16173</td>\n      <td>...</td>\n      <td>2127064</td>\n      <td>2187530</td>\n      <td>2256800</td>\n      <td>2311437</td>\n      <td>2348263</td>\n      <td>2378556</td>\n      <td>2415454</td>\n      <td>2464052</td>\n      <td>2497828</td>\n      <td>2550299</td>\n    </tr>\n    <tr>\n      <th>14</th>\n      <td>Jharkhand</td>\n      <td>3096</td>\n      <td>6059</td>\n      <td>8824</td>\n      <td>11641</td>\n      <td>11641</td>\n      <td>14806</td>\n      <td>14806</td>\n      <td>14806</td>\n      <td>18413</td>\n      <td>...</td>\n      <td>3005467</td>\n      <td>3029162</td>\n      <td>3053169</td>\n      <td>3083133</td>\n      <td>3114124</td>\n      <td>3139573</td>\n      <td>3146822</td>\n      <td>3164312</td>\n      <td>3182602</td>\n      <td>3205030</td>\n    </tr>\n    <tr>\n      <th>15</th>\n      <td>Karnataka</td>\n      <td>13594</td>\n      <td>66392</td>\n      <td>80686</td>\n      <td>121466</td>\n      <td>138807</td>\n      <td>184699</td>\n      <td>188971</td>\n      <td>191449</td>\n      <td>231172</td>\n      <td>...</td>\n      <td>8892708</td>\n      <td>9088473</td>\n      <td>9277544</td>\n      <td>9400389</td>\n      <td>9643472</td>\n      <td>9782183</td>\n      <td>9817397</td>\n      <td>9892349</td>\n      <td>9948331</td>\n      <td>10111482</td>\n    </tr>\n    <tr>\n      <th>16</th>\n      <td>Kerala</td>\n      <td>8062</td>\n      <td>15477</td>\n      <td>23855</td>\n      <td>24269</td>\n      <td>35173</td>\n      <td>47293</td>\n      <td>53529</td>\n      <td>53529</td>\n      <td>71973</td>\n      <td>...</td>\n      <td>6991400</td>\n      <td>7107072</td>\n      <td>7144122</td>\n      <td>7229229</td>\n      <td>7377186</td>\n      <td>7428920</td>\n      <td>7426164</td>\n      <td>7508437</td>\n      <td>7572175</td>\n      <td>7594821</td>\n    </tr>\n    <tr>\n      <th>17</th>\n      <td>Ladakh</td>\n      <td>79</td>\n      <td>119</td>\n      <td>119</td>\n      <td>240</td>\n      <td>240</td>\n      <td>401</td>\n      <td>558</td>\n      <td>558</td>\n      <td>670</td>\n      <td>...</td>\n      <td>100904</td>\n      <td>103717</td>\n      <td>105915</td>\n      <td>107405</td>\n      <td>108513</td>\n      <td>109478</td>\n      <td>109694</td>\n      <td>111013</td>\n      <td>112784</td>\n      <td>115057</td>\n    </tr>\n    <tr>\n      <th>18</th>\n      <td>Lakshadweep</td>\n      <td>21</td>\n      <td>201</td>\n      <td>369</td>\n      <td>369</td>\n      <td>369</td>\n      <td>552</td>\n      <td>633</td>\n      <td>633</td>\n      <td>676</td>\n      <td>...</td>\n      <td>21755</td>\n      <td>21965</td>\n      <td>22157</td>\n      <td>22650</td>\n      <td>23140</td>\n      <td>23455</td>\n      <td>23686</td>\n      <td>23959</td>\n      <td>24303</td>\n      <td>24676</td>\n    </tr>\n    <tr>\n      <th>19</th>\n      <td>Madhya Pradesh</td>\n      <td>9219</td>\n      <td>18174</td>\n      <td>18174</td>\n      <td>27770</td>\n      <td>38278</td>\n      <td>38278</td>\n      <td>38278</td>\n      <td>38278</td>\n      <td>67083</td>\n      <td>...</td>\n      <td>7991717</td>\n      <td>8010424</td>\n      <td>8071748</td>\n      <td>8076994</td>\n      <td>8079528</td>\n      <td>8151801</td>\n      <td>8154921</td>\n      <td>8222982</td>\n      <td>8242734</td>\n      <td>8357417</td>\n    </tr>\n    <tr>\n      <th>20</th>\n      <td>Maharashtra</td>\n      <td>18328</td>\n      <td>18582</td>\n      <td>30247</td>\n      <td>52055</td>\n      <td>52393</td>\n      <td>74960</td>\n      <td>99885</td>\n      <td>99885</td>\n      <td>136901</td>\n      <td>...</td>\n      <td>14906543</td>\n      <td>15322367</td>\n      <td>15578162</td>\n      <td>15871153</td>\n      <td>16184823</td>\n      <td>16322336</td>\n      <td>16342758</td>\n      <td>16422152</td>\n      <td>16520873</td>\n      <td>16781719</td>\n    </tr>\n    <tr>\n      <th>21</th>\n      <td>Manipur</td>\n      <td>585</td>\n      <td>978</td>\n      <td>111</td>\n      <td>1454</td>\n      <td>1454</td>\n      <td>1923</td>\n      <td>2319</td>\n      <td>2319</td>\n      <td>2485</td>\n      <td>...</td>\n      <td>192280</td>\n      <td>200765</td>\n      <td>214237</td>\n      <td>228344</td>\n      <td>250314</td>\n      <td>263802</td>\n      <td>266790</td>\n      <td>281266</td>\n      <td>291900</td>\n      <td>304066</td>\n    </tr>\n    <tr>\n      <th>22</th>\n      <td>Meghalaya</td>\n      <td>509</td>\n      <td>530</td>\n      <td>1037</td>\n      <td>1365</td>\n      <td>1785</td>\n      <td>2078</td>\n      <td>2236</td>\n      <td>2236</td>\n      <td>2748</td>\n      <td>...</td>\n      <td>225514</td>\n      <td>242595</td>\n      <td>258998</td>\n      <td>275100</td>\n      <td>290726</td>\n      <td>297967</td>\n      <td>298409</td>\n      <td>307070</td>\n      <td>314393</td>\n      <td>320713</td>\n    </tr>\n    <tr>\n      <th>23</th>\n      <td>Mizoram</td>\n      <td>314</td>\n      <td>554</td>\n      <td>1091</td>\n      <td>1508</td>\n      <td>2537</td>\n      <td>3657</td>\n      <td>3979</td>\n      <td>3979</td>\n      <td>4852</td>\n      <td>...</td>\n      <td>223439</td>\n      <td>235159</td>\n      <td>243917</td>\n      <td>250446</td>\n      <td>256096</td>\n      <td>258922</td>\n      <td>258815</td>\n      <td>263585</td>\n      <td>267429</td>\n      <td>270992</td>\n    </tr>\n    <tr>\n      <th>24</th>\n      <td>Nagaland</td>\n      <td>561</td>\n      <td>1436</td>\n      <td>2286</td>\n      <td>2988</td>\n      <td>3187</td>\n      <td>3443</td>\n      <td>3443</td>\n      <td>3443</td>\n      <td>3675</td>\n      <td>...</td>\n      <td>178196</td>\n      <td>183203</td>\n      <td>189765</td>\n      <td>195429</td>\n      <td>198814</td>\n      <td>199986</td>\n      <td>200268</td>\n      <td>205169</td>\n      <td>209616</td>\n      <td>213112</td>\n    </tr>\n    <tr>\n      <th>25</th>\n      <td>Odisha</td>\n      <td>13746</td>\n      <td>46506</td>\n      <td>55138</td>\n      <td>68743</td>\n      <td>113623</td>\n      <td>130007</td>\n      <td>152371</td>\n      <td>152371</td>\n      <td>177090</td>\n      <td>...</td>\n      <td>5618057</td>\n      <td>5694155</td>\n      <td>5743455</td>\n      <td>5779022</td>\n      <td>5857731</td>\n      <td>5872738</td>\n      <td>5874407</td>\n      <td>5916461</td>\n      <td>5944620</td>\n      <td>5967765</td>\n    </tr>\n    <tr>\n      <th>26</th>\n      <td>Puducherry</td>\n      <td>274</td>\n      <td>554</td>\n      <td>719</td>\n      <td>759</td>\n      <td>759</td>\n      <td>1097</td>\n      <td>1478</td>\n      <td>1478</td>\n      <td>1813</td>\n      <td>...</td>\n      <td>185167</td>\n      <td>187823</td>\n      <td>190734</td>\n      <td>193884</td>\n      <td>197790</td>\n      <td>199906</td>\n      <td>200026</td>\n      <td>202468</td>\n      <td>204352</td>\n      <td>206992</td>\n    </tr>\n    <tr>\n      <th>27</th>\n      <td>Punjab</td>\n      <td>1319</td>\n      <td>3318</td>\n      <td>5567</td>\n      <td>7607</td>\n      <td>12532</td>\n      <td>21340</td>\n      <td>30319</td>\n      <td>31327</td>\n      <td>39418</td>\n      <td>...</td>\n      <td>3086085</td>\n      <td>3131631</td>\n      <td>3211821</td>\n      <td>3294001</td>\n      <td>3394738</td>\n      <td>3477671</td>\n      <td>3498523</td>\n      <td>3532229</td>\n      <td>3551466</td>\n      <td>3627732</td>\n    </tr>\n    <tr>\n      <th>28</th>\n      <td>Rajasthan</td>\n      <td>9279</td>\n      <td>23546</td>\n      <td>30761</td>\n      <td>32379</td>\n      <td>32379</td>\n      <td>43947</td>\n      <td>67270</td>\n      <td>93525</td>\n      <td>161116</td>\n      <td>...</td>\n      <td>12543221</td>\n      <td>12659815</td>\n      <td>12812973</td>\n      <td>12936911</td>\n      <td>13022322</td>\n      <td>13092779</td>\n      <td>13173426</td>\n      <td>13338393</td>\n      <td>13474448</td>\n      <td>13597367</td>\n    </tr>\n    <tr>\n      <th>29</th>\n      <td>Sikkim</td>\n      <td>120</td>\n      <td>120</td>\n      <td>350</td>\n      <td>573</td>\n      <td>773</td>\n      <td>960</td>\n      <td>960</td>\n      <td>960</td>\n      <td>1047</td>\n      <td>...</td>\n      <td>189953</td>\n      <td>193834</td>\n      <td>196919</td>\n      <td>200586</td>\n      <td>203966</td>\n      <td>205129</td>\n      <td>204990</td>\n      <td>207514</td>\n      <td>209932</td>\n      <td>212161</td>\n    </tr>\n    <tr>\n      <th>30</th>\n      <td>Tamil Nadu</td>\n      <td>2945</td>\n      <td>16462</td>\n      <td>25251</td>\n      <td>33670</td>\n      <td>42947</td>\n      <td>51651</td>\n      <td>59226</td>\n      <td>61720</td>\n      <td>69027</td>\n      <td>...</td>\n      <td>5484633</td>\n      <td>5626091</td>\n      <td>5741587</td>\n      <td>5845888</td>\n      <td>5947800</td>\n      <td>6045628</td>\n      <td>6046284</td>\n      <td>6123161</td>\n      <td>6188845</td>\n      <td>6249242</td>\n    </tr>\n    <tr>\n      <th>31</th>\n      <td>Telangana</td>\n      <td>3653</td>\n      <td>17408</td>\n      <td>69405</td>\n      <td>69405</td>\n      <td>97087</td>\n      <td>110031</td>\n      <td>110031</td>\n      <td>110031</td>\n      <td>130390</td>\n      <td>...</td>\n      <td>4287852</td>\n      <td>4400436</td>\n      <td>4543288</td>\n      <td>4613191</td>\n      <td>4781228</td>\n      <td>4788950</td>\n      <td>4787533</td>\n      <td>4814401</td>\n      <td>4878695</td>\n      <td>4956957</td>\n    </tr>\n    <tr>\n      <th>32</th>\n      <td>Tripura</td>\n      <td>355</td>\n      <td>1736</td>\n      <td>3734</td>\n      <td>3734</td>\n      <td>9272</td>\n      <td>14252</td>\n      <td>14252</td>\n      <td>14252</td>\n      <td>19698</td>\n      <td>...</td>\n      <td>1067301</td>\n      <td>1113957</td>\n      <td>1140674</td>\n      <td>1190622</td>\n      <td>1237738</td>\n      <td>1261437</td>\n      <td>1267062</td>\n      <td>1282367</td>\n      <td>1301258</td>\n      <td>1319613</td>\n    </tr>\n    <tr>\n      <th>33</th>\n      <td>Uttar Pradesh</td>\n      <td>21291</td>\n      <td>22644</td>\n      <td>22644</td>\n      <td>22644</td>\n      <td>22644</td>\n      <td>123761</td>\n      <td>123761</td>\n      <td>123761</td>\n      <td>123761</td>\n      <td>...</td>\n      <td>11947728</td>\n      <td>12061303</td>\n      <td>12169510</td>\n      <td>12355555</td>\n      <td>12559034</td>\n      <td>12720794</td>\n      <td>12705514</td>\n      <td>12865305</td>\n      <td>13024883</td>\n      <td>13175325</td>\n    </tr>\n    <tr>\n      <th>34</th>\n      <td>Uttarakhand</td>\n      <td>2276</td>\n      <td>4237</td>\n      <td>6107</td>\n      <td>6119</td>\n      <td>8206</td>\n      <td>10514</td>\n      <td>10514</td>\n      <td>10514</td>\n      <td>14546</td>\n      <td>...</td>\n      <td>1918491</td>\n      <td>1951517</td>\n      <td>1990231</td>\n      <td>2033587</td>\n      <td>2076143</td>\n      <td>2096753</td>\n      <td>2101879</td>\n      <td>2111065</td>\n      <td>2139623</td>\n      <td>2182985</td>\n    </tr>\n    <tr>\n      <th>35</th>\n      <td>West Bengal</td>\n      <td>9730</td>\n      <td>29866</td>\n      <td>42093</td>\n      <td>46310</td>\n      <td>53988</td>\n      <td>84505</td>\n      <td>84505</td>\n      <td>84505</td>\n      <td>122851</td>\n      <td>...</td>\n      <td>10230498</td>\n      <td>10438235</td>\n      <td>10632087</td>\n      <td>10782136</td>\n      <td>10972478</td>\n      <td>11064671</td>\n      <td>11066286</td>\n      <td>11243084</td>\n      <td>11385336</td>\n      <td>11475371</td>\n    </tr>\n    <tr>\n      <th>36</th>\n      <td>Miscellaneous</td>\n      <td>0</td>\n      <td>14017</td>\n      <td>14017</td>\n      <td>26940</td>\n      <td>32297</td>\n      <td>36926</td>\n      <td>40144</td>\n      <td>40284</td>\n      <td>43625</td>\n      <td>...</td>\n      <td>2921474</td>\n      <td>2937817</td>\n      <td>2952594</td>\n      <td>2965505</td>\n      <td>2977792</td>\n      <td>2989342</td>\n      <td>2990130</td>\n      <td>3001735</td>\n      <td>3015080</td>\n      <td>3029185</td>\n    </tr>\n    <tr>\n      <th>37</th>\n      <td>Total</td>\n      <td>191181</td>\n      <td>454049</td>\n      <td>630417</td>\n      <td>806484</td>\n      <td>1043534</td>\n      <td>1390592</td>\n      <td>1582201</td>\n      <td>1615504</td>\n      <td>2023809</td>\n      <td>...</td>\n      <td>145271186</td>\n      <td>147827367</td>\n      <td>150020648</td>\n      <td>152245179</td>\n      <td>154989635</td>\n      <td>156816031</td>\n      <td>157198207</td>\n      <td>158932921</td>\n      <td>160494188</td>\n      <td>162513339</td>\n    </tr>\n  </tbody>\n</table>\n<p>38 rows × 110 columns</p>\n</div>"
     },
     "execution_count": 124,
     "metadata": {},
     "output_type": "execute_result"
    }
   ],
   "source": [
    "df"
   ],
   "metadata": {
    "collapsed": false,
    "pycharm": {
     "name": "#%%\n"
    }
   }
  },
  {
   "cell_type": "code",
   "execution_count": 115,
   "outputs": [
    {
     "data": {
      "text/plain": "'06/05/2021'"
     },
     "execution_count": 115,
     "metadata": {},
     "output_type": "execute_result"
    }
   ],
   "source": [
    "(datetime.date.today() + datetime.timedelta(days=-)).strftime(\"%d/%m/%Y\")"
   ],
   "metadata": {
    "collapsed": false,
    "pycharm": {
     "name": "#%%\n"
    }
   }
  },
  {
   "cell_type": "code",
   "execution_count": 155,
   "outputs": [
    {
     "data": {
      "text/plain": "'5'"
     },
     "execution_count": 155,
     "metadata": {},
     "output_type": "execute_result"
    }
   ],
   "source": [
    "datetime.date.today().strftime(\"%w\")"
   ],
   "metadata": {
    "collapsed": false,
    "pycharm": {
     "name": "#%%\n"
    }
   }
  },
  {
   "cell_type": "code",
   "execution_count": 134,
   "outputs": [
    {
     "data": {
      "text/plain": "''"
     },
     "execution_count": 134,
     "metadata": {},
     "output_type": "execute_result"
    }
   ],
   "source": [
    "datetime.date.today().strftime(\"%z\")"
   ],
   "metadata": {
    "collapsed": false,
    "pycharm": {
     "name": "#%%\n"
    }
   }
  },
  {
   "cell_type": "code",
   "execution_count": 182,
   "outputs": [],
   "source": [],
   "metadata": {
    "collapsed": false,
    "pycharm": {
     "name": "#%%\n"
    }
   }
  },
  {
   "cell_type": "code",
   "execution_count": null,
   "outputs": [],
   "source": [
    "def download_file(url):\n",
    "    local_filename = url.split('/')[-1]\n",
    "    # NOTE the stream=True parameter below\n",
    "    with requests.get(url, stream=True) as r:\n",
    "        r.raise_for_status()\n",
    "        with open(local_filename, 'wb') as f:\n",
    "            for chunk in r.iter_content(chunk_size=8192):\n",
    "                # If you have chunk encoded response uncomment if\n",
    "                # and set chunk_size parameter to None.\n",
    "                #if chunk:\n",
    "                f.write(chunk)\n",
    "    return local_filename"
   ],
   "metadata": {
    "collapsed": false,
    "pycharm": {
     "name": "#%%\n"
    }
   }
  },
  {
   "cell_type": "code",
   "execution_count": 188,
   "outputs": [
    {
     "data": {
      "text/plain": "False"
     },
     "execution_count": 188,
     "metadata": {},
     "output_type": "execute_result"
    }
   ],
   "source": [],
   "metadata": {
    "collapsed": false,
    "pycharm": {
     "name": "#%%\n"
    }
   }
  },
  {
   "cell_type": "code",
   "execution_count": 186,
   "outputs": [
    {
     "data": {
      "text/plain": "50144"
     },
     "execution_count": 186,
     "metadata": {},
     "output_type": "execute_result"
    }
   ],
   "source": [
    "timezone = pytz.timezone(\"Asia/Kolkata\")\n",
    "date = timezone.localize(datetime.datetime.today())\n",
    "totalNumber = 1390885000\n",
    "totalBox = 15"
   ],
   "metadata": {
    "collapsed": false,
    "pycharm": {
     "name": "#%%\n"
    }
   }
  },
  {
   "cell_type": "code",
   "execution_count": 197,
   "outputs": [
    {
     "data": {
      "text/plain": "Status(_api=<tweepy.api.API object at 0x11a66f100>, _json={'created_at': 'Thu May 06 20:21:59 +0000 2021', 'id': 1390401478003621889, 'id_str': '1390401478003621889', 'text': '▓▓░░░░░░░░░░░░░ 12%\\n162513339 of 1390885000 people vaccinated in India', 'truncated': False, 'entities': {'hashtags': [], 'symbols': [], 'user_mentions': [], 'urls': []}, 'source': '<a href=\"https://help.twitter.com/en/using-twitter/how-to-tweet#source-labels\" rel=\"nofollow\">getThisSlot</a>', 'in_reply_to_status_id': None, 'in_reply_to_status_id_str': None, 'in_reply_to_user_id': None, 'in_reply_to_user_id_str': None, 'in_reply_to_screen_name': None, 'user': {'id': 1389340423332659206, 'id_str': '1389340423332659206', 'name': 'CowinHelper', 'screen_name': 'getmyslot', 'location': 'India', 'description': \"A bot that will not takeover the world but will notify you if there is a slot available. Let's #GetVaccinatedASAP and prevent #ThirdWave. Made by @swiftlysingh\", 'url': None, 'entities': {'description': {'urls': []}}, 'protected': False, 'followers_count': 2, 'friends_count': 0, 'listed_count': 0, 'created_at': 'Mon May 03 22:05:54 +0000 2021', 'favourites_count': 1, 'utc_offset': None, 'time_zone': None, 'geo_enabled': False, 'verified': False, 'statuses_count': 95, 'lang': None, 'contributors_enabled': False, 'is_translator': False, 'is_translation_enabled': False, 'profile_background_color': 'F5F8FA', 'profile_background_image_url': None, 'profile_background_image_url_https': None, 'profile_background_tile': False, 'profile_image_url': 'http://pbs.twimg.com/profile_images/1389997409820831747/IXomyI1Z_normal.jpg', 'profile_image_url_https': 'https://pbs.twimg.com/profile_images/1389997409820831747/IXomyI1Z_normal.jpg', 'profile_banner_url': 'https://pbs.twimg.com/profile_banners/1389340423332659206/1620235968', 'profile_link_color': '1DA1F2', 'profile_sidebar_border_color': 'C0DEED', 'profile_sidebar_fill_color': 'DDEEF6', 'profile_text_color': '333333', 'profile_use_background_image': True, 'has_extended_profile': True, 'default_profile': True, 'default_profile_image': False, 'following': False, 'follow_request_sent': False, 'notifications': False, 'translator_type': 'none', 'withheld_in_countries': []}, 'geo': None, 'coordinates': None, 'place': None, 'contributors': None, 'is_quote_status': False, 'retweet_count': 0, 'favorite_count': 0, 'favorited': False, 'retweeted': False, 'lang': 'en'}, created_at=datetime.datetime(2021, 5, 6, 20, 21, 59), id=1390401478003621889, id_str='1390401478003621889', text='▓▓░░░░░░░░░░░░░ 12%\\n162513339 of 1390885000 people vaccinated in India', truncated=False, entities={'hashtags': [], 'symbols': [], 'user_mentions': [], 'urls': []}, source='getThisSlot', source_url='https://help.twitter.com/en/using-twitter/how-to-tweet#source-labels', in_reply_to_status_id=None, in_reply_to_status_id_str=None, in_reply_to_user_id=None, in_reply_to_user_id_str=None, in_reply_to_screen_name=None, author=User(_api=<tweepy.api.API object at 0x11a66f100>, _json={'id': 1389340423332659206, 'id_str': '1389340423332659206', 'name': 'CowinHelper', 'screen_name': 'getmyslot', 'location': 'India', 'description': \"A bot that will not takeover the world but will notify you if there is a slot available. Let's #GetVaccinatedASAP and prevent #ThirdWave. Made by @swiftlysingh\", 'url': None, 'entities': {'description': {'urls': []}}, 'protected': False, 'followers_count': 2, 'friends_count': 0, 'listed_count': 0, 'created_at': 'Mon May 03 22:05:54 +0000 2021', 'favourites_count': 1, 'utc_offset': None, 'time_zone': None, 'geo_enabled': False, 'verified': False, 'statuses_count': 95, 'lang': None, 'contributors_enabled': False, 'is_translator': False, 'is_translation_enabled': False, 'profile_background_color': 'F5F8FA', 'profile_background_image_url': None, 'profile_background_image_url_https': None, 'profile_background_tile': False, 'profile_image_url': 'http://pbs.twimg.com/profile_images/1389997409820831747/IXomyI1Z_normal.jpg', 'profile_image_url_https': 'https://pbs.twimg.com/profile_images/1389997409820831747/IXomyI1Z_normal.jpg', 'profile_banner_url': 'https://pbs.twimg.com/profile_banners/1389340423332659206/1620235968', 'profile_link_color': '1DA1F2', 'profile_sidebar_border_color': 'C0DEED', 'profile_sidebar_fill_color': 'DDEEF6', 'profile_text_color': '333333', 'profile_use_background_image': True, 'has_extended_profile': True, 'default_profile': True, 'default_profile_image': False, 'following': False, 'follow_request_sent': False, 'notifications': False, 'translator_type': 'none', 'withheld_in_countries': []}, id=1389340423332659206, id_str='1389340423332659206', name='CowinHelper', screen_name='getmyslot', location='India', description=\"A bot that will not takeover the world but will notify you if there is a slot available. Let's #GetVaccinatedASAP and prevent #ThirdWave. Made by @swiftlysingh\", url=None, entities={'description': {'urls': []}}, protected=False, followers_count=2, friends_count=0, listed_count=0, created_at=datetime.datetime(2021, 5, 3, 22, 5, 54), favourites_count=1, utc_offset=None, time_zone=None, geo_enabled=False, verified=False, statuses_count=95, lang=None, contributors_enabled=False, is_translator=False, is_translation_enabled=False, profile_background_color='F5F8FA', profile_background_image_url=None, profile_background_image_url_https=None, profile_background_tile=False, profile_image_url='http://pbs.twimg.com/profile_images/1389997409820831747/IXomyI1Z_normal.jpg', profile_image_url_https='https://pbs.twimg.com/profile_images/1389997409820831747/IXomyI1Z_normal.jpg', profile_banner_url='https://pbs.twimg.com/profile_banners/1389340423332659206/1620235968', profile_link_color='1DA1F2', profile_sidebar_border_color='C0DEED', profile_sidebar_fill_color='DDEEF6', profile_text_color='333333', profile_use_background_image=True, has_extended_profile=True, default_profile=True, default_profile_image=False, following=False, follow_request_sent=False, notifications=False, translator_type='none', withheld_in_countries=[]), user=User(_api=<tweepy.api.API object at 0x11a66f100>, _json={'id': 1389340423332659206, 'id_str': '1389340423332659206', 'name': 'CowinHelper', 'screen_name': 'getmyslot', 'location': 'India', 'description': \"A bot that will not takeover the world but will notify you if there is a slot available. Let's #GetVaccinatedASAP and prevent #ThirdWave. Made by @swiftlysingh\", 'url': None, 'entities': {'description': {'urls': []}}, 'protected': False, 'followers_count': 2, 'friends_count': 0, 'listed_count': 0, 'created_at': 'Mon May 03 22:05:54 +0000 2021', 'favourites_count': 1, 'utc_offset': None, 'time_zone': None, 'geo_enabled': False, 'verified': False, 'statuses_count': 95, 'lang': None, 'contributors_enabled': False, 'is_translator': False, 'is_translation_enabled': False, 'profile_background_color': 'F5F8FA', 'profile_background_image_url': None, 'profile_background_image_url_https': None, 'profile_background_tile': False, 'profile_image_url': 'http://pbs.twimg.com/profile_images/1389997409820831747/IXomyI1Z_normal.jpg', 'profile_image_url_https': 'https://pbs.twimg.com/profile_images/1389997409820831747/IXomyI1Z_normal.jpg', 'profile_banner_url': 'https://pbs.twimg.com/profile_banners/1389340423332659206/1620235968', 'profile_link_color': '1DA1F2', 'profile_sidebar_border_color': 'C0DEED', 'profile_sidebar_fill_color': 'DDEEF6', 'profile_text_color': '333333', 'profile_use_background_image': True, 'has_extended_profile': True, 'default_profile': True, 'default_profile_image': False, 'following': False, 'follow_request_sent': False, 'notifications': False, 'translator_type': 'none', 'withheld_in_countries': []}, id=1389340423332659206, id_str='1389340423332659206', name='CowinHelper', screen_name='getmyslot', location='India', description=\"A bot that will not takeover the world but will notify you if there is a slot available. Let's #GetVaccinatedASAP and prevent #ThirdWave. Made by @swiftlysingh\", url=None, entities={'description': {'urls': []}}, protected=False, followers_count=2, friends_count=0, listed_count=0, created_at=datetime.datetime(2021, 5, 3, 22, 5, 54), favourites_count=1, utc_offset=None, time_zone=None, geo_enabled=False, verified=False, statuses_count=95, lang=None, contributors_enabled=False, is_translator=False, is_translation_enabled=False, profile_background_color='F5F8FA', profile_background_image_url=None, profile_background_image_url_https=None, profile_background_tile=False, profile_image_url='http://pbs.twimg.com/profile_images/1389997409820831747/IXomyI1Z_normal.jpg', profile_image_url_https='https://pbs.twimg.com/profile_images/1389997409820831747/IXomyI1Z_normal.jpg', profile_banner_url='https://pbs.twimg.com/profile_banners/1389340423332659206/1620235968', profile_link_color='1DA1F2', profile_sidebar_border_color='C0DEED', profile_sidebar_fill_color='DDEEF6', profile_text_color='333333', profile_use_background_image=True, has_extended_profile=True, default_profile=True, default_profile_image=False, following=False, follow_request_sent=False, notifications=False, translator_type='none', withheld_in_countries=[]), geo=None, coordinates=None, place=None, contributors=None, is_quote_status=False, retweet_count=0, favorite_count=0, favorited=False, retweeted=False, lang='en')"
     },
     "execution_count": 197,
     "metadata": {},
     "output_type": "execute_result"
    }
   ],
   "source": [
    "def updatePeopleVaccinated:\n",
    "    if 52000 == int(date.strftime(\"%w%H%M\")):\n",
    "        download_file(\"http://api.covid19india.org/csv/latest/vaccine_doses_statewise.csv\")\n",
    "        df = pd.read_csv(\"vaccine_doses_statewise.csv\")\n",
    "        completedNumber = df[(datetime.date.today() + datetime.timedelta(days=-2)).strftime(\"%d/%m/%Y\")].iloc[-1]\n",
    "        fillBox = round((completedNumber/totalNumber) * totalBox)\n",
    "        bar = \"\"\n",
    "        for i in range(totalBox):\n",
    "            if i < fillBox:\n",
    "                bar += \"▓\"\n",
    "            else:\n",
    "                bar += \"░\"\n",
    "        bar += \" \" + str(round((completedNumber/totalNumber)*100)) + \"%\" + \"\\n\" + completedNumber.__str__() + \" of \" + totalNumber.__str__() + \" people in India vaccinated\"\n",
    "        api.update_status(bar)"
   ],
   "metadata": {
    "collapsed": false,
    "pycharm": {
     "name": "#%%\n"
    }
   }
  },
  {
   "cell_type": "code",
   "execution_count": 62,
   "outputs": [],
   "source": [
    "def tweetAt(availableCapacity,vaccines,pin,date,age):\n",
    "    coDF= pd.read_csv(\"UserData.csv\")\n",
    "    reply = \"Atleast \" + str(availableCapacity) + \" slot(s) for \" + \" and \".join([v for v,b in vaccines.items() if b == True]) + \" is available for age \" + str(age) + \"+ at pin \" + str(pin) + \" for \" + date\n",
    "    tweetIDs = coDF.loc[(df[\"Age\"]==age) & (coDF[\"Pin\"]==pin),[\"TweetID\"]]\n",
    "    for tweetID in tweetIDs.TweetID:\n",
    "        username = coDF.loc[coDF[\"TweetID\"]==tweetID,[\"Username\"]].Username.item()\n",
    "        tweet = \".@\" + username + \" \" + reply\n",
    "        alert = coDF.loc[coDF[\"TweetID\"]==tweetID, [\"Alert\"]].Alert.item()\n",
    "        print(alert)\n",
    "        if pd.isna(alert) or int(datetime.datetime.now().strftime(\"%d%H%M\")) - alert > 100:\n",
    "            print(\"Tweeting\")\n",
    "            print(tweetID)\n",
    "            api.update_status(tweet,tweetID)\n",
    "            coDF.loc[coDF[\"TweetID\"]==tweetID,\"Alert\"]  = int(datetime.datetime.now().strftime(\"%d%H%M\"))\n",
    "\n",
    "    coDF.to_csv(\"UserData.csv\",index=False)"
   ],
   "metadata": {
    "collapsed": false,
    "pycharm": {
     "name": "#%%\n"
    }
   }
  },
  {
   "cell_type": "code",
   "execution_count": 63,
   "outputs": [
    {
     "name": "stdout",
     "output_type": "stream",
     "text": [
      "71655.0\n",
      "nan\n",
      "Tweeting\n",
      "1390626055946346496\n"
     ]
    }
   ],
   "source": [
    "tweetAt(5,{'COVISHIELD': True, 'COVAXIN': False},110021,\"07-05-2021\",45)"
   ],
   "metadata": {
    "collapsed": false,
    "pycharm": {
     "name": "#%%\n"
    }
   }
  },
  {
   "cell_type": "code",
   "execution_count": 6,
   "outputs": [],
   "source": [
    "\n",
    "logging.basicConfig(\n",
    "    format='%(asctime)s %(levelname)-8s %(message)s',\n",
    "    level=logging.INFO,\n",
    "    datefmt='%Y-%m-%d %H:%M:%S')\n",
    "logger = logging.getLogger()"
   ],
   "metadata": {
    "collapsed": false,
    "pycharm": {
     "name": "#%%\n"
    }
   }
  },
  {
   "cell_type": "code",
   "execution_count": 55,
   "outputs": [],
   "source": [
    " coDF= pd.read_csv(\"UserData.csv\")"
   ],
   "metadata": {
    "collapsed": false,
    "pycharm": {
     "name": "#%%\n"
    }
   }
  },
  {
   "cell_type": "code",
   "execution_count": 56,
   "outputs": [
    {
     "data": {
      "text/plain": "         Username              TweetID     Pin  Age    Alert\n0        get_dash  1389614929078935562  110021   45  71655.0\n1        tush3031  1389614929078935561  400706   18      NaN\n2        get_dash  1389969453648007168  110058   18      NaN\n3        get_dash  1389971582378864649  110058   18      NaN\n4    swiftlysingh  1389999740725600257  110058   18      NaN\n5  theakshaytyagi  1390376884869877762  201306   18      NaN\n6     sherrrlocke  1390383274485161985  110093   18      NaN\n7      mdbilal420  1390619899131678720  225001   18      NaN\n8  officialyash18  1390621245226422274  246701   18      NaN\n9        get_dash  1390626055946346496  110021   45      NaN",
      "text/html": "<div>\n<style scoped>\n    .dataframe tbody tr th:only-of-type {\n        vertical-align: middle;\n    }\n\n    .dataframe tbody tr th {\n        vertical-align: top;\n    }\n\n    .dataframe thead th {\n        text-align: right;\n    }\n</style>\n<table border=\"1\" class=\"dataframe\">\n  <thead>\n    <tr style=\"text-align: right;\">\n      <th></th>\n      <th>Username</th>\n      <th>TweetID</th>\n      <th>Pin</th>\n      <th>Age</th>\n      <th>Alert</th>\n    </tr>\n  </thead>\n  <tbody>\n    <tr>\n      <th>0</th>\n      <td>get_dash</td>\n      <td>1389614929078935562</td>\n      <td>110021</td>\n      <td>45</td>\n      <td>71655.0</td>\n    </tr>\n    <tr>\n      <th>1</th>\n      <td>tush3031</td>\n      <td>1389614929078935561</td>\n      <td>400706</td>\n      <td>18</td>\n      <td>NaN</td>\n    </tr>\n    <tr>\n      <th>2</th>\n      <td>get_dash</td>\n      <td>1389969453648007168</td>\n      <td>110058</td>\n      <td>18</td>\n      <td>NaN</td>\n    </tr>\n    <tr>\n      <th>3</th>\n      <td>get_dash</td>\n      <td>1389971582378864649</td>\n      <td>110058</td>\n      <td>18</td>\n      <td>NaN</td>\n    </tr>\n    <tr>\n      <th>4</th>\n      <td>swiftlysingh</td>\n      <td>1389999740725600257</td>\n      <td>110058</td>\n      <td>18</td>\n      <td>NaN</td>\n    </tr>\n    <tr>\n      <th>5</th>\n      <td>theakshaytyagi</td>\n      <td>1390376884869877762</td>\n      <td>201306</td>\n      <td>18</td>\n      <td>NaN</td>\n    </tr>\n    <tr>\n      <th>6</th>\n      <td>sherrrlocke</td>\n      <td>1390383274485161985</td>\n      <td>110093</td>\n      <td>18</td>\n      <td>NaN</td>\n    </tr>\n    <tr>\n      <th>7</th>\n      <td>mdbilal420</td>\n      <td>1390619899131678720</td>\n      <td>225001</td>\n      <td>18</td>\n      <td>NaN</td>\n    </tr>\n    <tr>\n      <th>8</th>\n      <td>officialyash18</td>\n      <td>1390621245226422274</td>\n      <td>246701</td>\n      <td>18</td>\n      <td>NaN</td>\n    </tr>\n    <tr>\n      <th>9</th>\n      <td>get_dash</td>\n      <td>1390626055946346496</td>\n      <td>110021</td>\n      <td>45</td>\n      <td>NaN</td>\n    </tr>\n  </tbody>\n</table>\n</div>"
     },
     "execution_count": 56,
     "metadata": {},
     "output_type": "execute_result"
    }
   ],
   "source": [
    "coDF"
   ],
   "metadata": {
    "collapsed": false,
    "pycharm": {
     "name": "#%%\n"
    }
   }
  },
  {
   "cell_type": "code",
   "execution_count": 60,
   "outputs": [],
   "source": [
    "tweetIDs = coDF.loc[(df[\"Age\"]==45) & (coDF[\"Pin\"]==110021),[\"TweetID\"]]"
   ],
   "metadata": {
    "collapsed": false,
    "pycharm": {
     "name": "#%%\n"
    }
   }
  },
  {
   "cell_type": "code",
   "execution_count": 53,
   "outputs": [
    {
     "data": {
      "text/plain": "   Username              TweetID     Pin  Age    Alert\n0  get_dash  1389614929078935562  110021   45  71655.0\n9  get_dash  1390626055946346496  110021   45      NaN",
      "text/html": "<div>\n<style scoped>\n    .dataframe tbody tr th:only-of-type {\n        vertical-align: middle;\n    }\n\n    .dataframe tbody tr th {\n        vertical-align: top;\n    }\n\n    .dataframe thead th {\n        text-align: right;\n    }\n</style>\n<table border=\"1\" class=\"dataframe\">\n  <thead>\n    <tr style=\"text-align: right;\">\n      <th></th>\n      <th>Username</th>\n      <th>TweetID</th>\n      <th>Pin</th>\n      <th>Age</th>\n      <th>Alert</th>\n    </tr>\n  </thead>\n  <tbody>\n    <tr>\n      <th>0</th>\n      <td>get_dash</td>\n      <td>1389614929078935562</td>\n      <td>110021</td>\n      <td>45</td>\n      <td>71655.0</td>\n    </tr>\n    <tr>\n      <th>9</th>\n      <td>get_dash</td>\n      <td>1390626055946346496</td>\n      <td>110021</td>\n      <td>45</td>\n      <td>NaN</td>\n    </tr>\n  </tbody>\n</table>\n</div>"
     },
     "execution_count": 53,
     "metadata": {},
     "output_type": "execute_result"
    }
   ],
   "source": [
    "coDF.loc[df[\"Age\"]==45]"
   ],
   "metadata": {
    "collapsed": false,
    "pycharm": {
     "name": "#%%\n"
    }
   }
  },
  {
   "cell_type": "code",
   "execution_count": 59,
   "outputs": [
    {
     "data": {
      "text/plain": "0     True\n1    False\n2    False\n3    False\n4    False\n5    False\n6    False\n7    False\n8    False\n9     True\nName: Pin, dtype: bool"
     },
     "execution_count": 59,
     "metadata": {},
     "output_type": "execute_result"
    }
   ],
   "source": [
    "coDF[\"Pin\"]==110021"
   ],
   "metadata": {
    "collapsed": false,
    "pycharm": {
     "name": "#%%\n"
    }
   }
  },
  {
   "cell_type": "code",
   "execution_count": 66,
   "outputs": [],
   "source": [
    "minAge = {18: False, 45: True}\n"
   ],
   "metadata": {
    "collapsed": false,
    "pycharm": {
     "name": "#%%\n"
    }
   }
  },
  {
   "cell_type": "code",
   "execution_count": 67,
   "outputs": [
    {
     "name": "stdout",
     "output_type": "stream",
     "text": [
      "Hello\n"
     ]
    }
   ],
   "source": [
    "if minAge[45]:\n",
    "    print(\"Hello\")"
   ],
   "metadata": {
    "collapsed": false,
    "pycharm": {
     "name": "#%%\n"
    }
   }
  },
  {
   "cell_type": "code",
   "execution_count": 26,
   "outputs": [],
   "source": [
    "def checkCowin():\n",
    "    logger.info(\"Checking COWIN\")\n",
    "    baseURL = \"https://cdn-api.co-vin.in/api/v2/appointment/sessions/public/findByPin?\"\n",
    "    coDF = pd.read_csv(\"UserData.csv\")\n",
    "    for date in dates:\n",
    "        for pin in coDF[\"Pin\"].unique():\n",
    "\n",
    "            completeURL = baseURL+\"date=\"+date + \"&pincode=\" + str(pin)\n",
    "            try:\n",
    "                logger.info(\"Getting sessions\")\n",
    "                sessions = requests.get(completeURL).json()[\"sessions\"]\n",
    "                print(sessions)\n",
    "                logger.info(\"Got Sessions\")\n",
    "                if sessions:\n",
    "                    logger.info(\"Processing sessions\")\n",
    "                    vaccines = {\"COVISHIELD\" : False, \"COVAXIN\" : False}\n",
    "                    minAge = {18:False,45:False}\n",
    "                    availableCapacity = sys.maxsize\n",
    "                    for session in sessions:\n",
    "                        availableCapacity = min(availableCapacity,int(session[\"available_capacity\"]))\n",
    "                        vaccines[session[\"vaccine\"]] = True\n",
    "                        minAge[session[\"min_age_limit\"]] = True\n",
    "                        if minAge[18]:\n",
    "                            logger.info(\"Tweeting 18\")\n",
    "                            tweetAt(availableCapacity,vaccines,pin,date,18)\n",
    "                        if minAge[45]:\n",
    "                            logger.info(\"Tweeting 45\")\n",
    "                            tweetAt(availableCapacity,vaccines,pin,date,45)\n",
    "\n",
    "                logger.info(\"Waiting...For COWIN\")\n",
    "            except:\n",
    "                logger.info(\"Failed to get new sessions\")\n",
    "                logger.info(\"Waiting...For COWIN\")\n",
    "    await asyncio.sleep(3)"
   ],
   "metadata": {
    "collapsed": false,
    "pycharm": {
     "name": "#%%\n"
    }
   }
  },
  {
   "cell_type": "code",
   "execution_count": 27,
   "outputs": [
    {
     "name": "stderr",
     "output_type": "stream",
     "text": [
      "2021-05-07 17:52:24 INFO     Checking COWIN\n",
      "2021-05-07 17:52:24 INFO     Getting sessions\n",
      "2021-05-07 17:52:24 INFO     Got Sessions\n",
      "2021-05-07 17:52:24 INFO     Thinking 45\n",
      "2021-05-07 17:52:24 INFO     Thinking 45\n",
      "2021-05-07 17:52:24 INFO     Waiting...For COWIN\n",
      "2021-05-07 17:52:24 INFO     Getting sessions\n",
      "2021-05-07 17:52:24 INFO     Got Sessions\n",
      "2021-05-07 17:52:24 INFO     Waiting...For COWIN\n",
      "2021-05-07 17:52:24 INFO     Getting sessions\n"
     ]
    },
    {
     "name": "stdout",
     "output_type": "stream",
     "text": [
      "[{'center_id': 8810, 'name': 'Charak Palika Hospial Site 1', 'address': 'Dist Hosp - Charak Palika Hospital', 'state_name': 'Delhi', 'district_name': 'New Delhi', 'block_name': 'Not Applicable', 'pincode': 110021, 'from': '09:00:00', 'to': '17:00:00', 'lat': 28, 'long': 77, 'fee_type': 'Free', 'session_id': '761e397c-2bfb-4688-924e-65112fc4bcef', 'date': '07-05-2021', 'available_capacity': 5, 'fee': '0', 'min_age_limit': 45, 'vaccine': 'COVISHIELD', 'slots': ['09:00AM-11:00AM', '11:00AM-01:00PM', '01:00PM-03:00PM', '03:00PM-05:00PM']}, {'center_id': 565416, 'name': 'Charak Palika Hospital Site 2', 'address': 'Charak Palika Hospital', 'state_name': 'Delhi', 'district_name': 'New Delhi', 'block_name': 'Not Applicable', 'pincode': 110021, 'from': '09:00:00', 'to': '17:00:00', 'lat': 28, 'long': 77, 'fee_type': 'Free', 'session_id': '3d2085c9-fcfd-47c8-b0e2-4f2c8f858a33', 'date': '07-05-2021', 'available_capacity': 15, 'fee': '0', 'min_age_limit': 45, 'vaccine': 'COVISHIELD', 'slots': ['09:00AM-11:00AM', '11:00AM-01:00PM', '01:00PM-03:00PM', '03:00PM-05:00PM']}]\n",
      "Processing sessions\n",
      "Inside For loop\n",
      "Getting capacity 5\n",
      "COVISHIELD\n",
      "Got Sessions {18: False, 45: True}\n",
      "Inside For loop\n",
      "Getting capacity 5\n",
      "COVISHIELD\n",
      "Got Sessions {18: False, 45: True}\n",
      "[]\n"
     ]
    },
    {
     "name": "stderr",
     "output_type": "stream",
     "text": [
      "2021-05-07 17:52:25 INFO     Got Sessions\n",
      "2021-05-07 17:52:25 INFO     Waiting...For COWIN\n",
      "2021-05-07 17:52:25 INFO     Getting sessions\n",
      "2021-05-07 17:52:25 INFO     Got Sessions\n",
      "2021-05-07 17:52:25 INFO     Waiting...For COWIN\n",
      "2021-05-07 17:52:25 INFO     Getting sessions\n"
     ]
    },
    {
     "name": "stdout",
     "output_type": "stream",
     "text": [
      "[]\n",
      "[]\n"
     ]
    },
    {
     "name": "stderr",
     "output_type": "stream",
     "text": [
      "2021-05-07 17:52:25 INFO     Got Sessions\n",
      "2021-05-07 17:52:25 INFO     Waiting...For COWIN\n",
      "2021-05-07 17:52:25 INFO     Getting sessions\n"
     ]
    },
    {
     "name": "stdout",
     "output_type": "stream",
     "text": [
      "[]\n"
     ]
    },
    {
     "name": "stderr",
     "output_type": "stream",
     "text": [
      "2021-05-07 17:52:25 INFO     Got Sessions\n",
      "2021-05-07 17:52:25 INFO     Thinking 45\n",
      "2021-05-07 17:52:25 INFO     Thinking 45\n",
      "2021-05-07 17:52:26 INFO     Thinking 45\n",
      "2021-05-07 17:52:26 INFO     Waiting...For COWIN\n",
      "2021-05-07 17:52:26 INFO     Getting sessions\n",
      "2021-05-07 17:52:26 INFO     Got Sessions\n",
      "2021-05-07 17:52:26 INFO     Waiting...For COWIN\n",
      "2021-05-07 17:52:26 INFO     Getting sessions\n",
      "2021-05-07 17:52:26 INFO     Got Sessions\n",
      "2021-05-07 17:52:26 INFO     Thinking 45\n",
      "2021-05-07 17:52:26 INFO     Thinking 45\n",
      "2021-05-07 17:52:26 INFO     Thinking 45\n"
     ]
    },
    {
     "name": "stdout",
     "output_type": "stream",
     "text": [
      "[{'center_id': 617548, 'name': 'PHC Dadra', 'address': 'Dadra PHC', 'state_name': 'Uttar Pradesh', 'district_name': 'Barabanki', 'block_name': 'Masauli', 'pincode': 225001, 'from': '09:00:00', 'to': '18:00:00', 'lat': 0, 'long': 0, 'fee_type': 'Free', 'session_id': 'f90307f9-0afd-45ef-bf14-3c8457db92eb', 'date': '07-05-2021', 'available_capacity': 45, 'fee': '0', 'min_age_limit': 45, 'vaccine': 'COVAXIN', 'slots': ['09:00AM-11:00AM', '11:00AM-01:00PM', '01:00PM-03:00PM', '03:00PM-06:00PM']}, {'center_id': 569120, 'name': 'DISTRICT (MALE) HOSPITAL', 'address': 'NAKA SATRIKH', 'state_name': 'Uttar Pradesh', 'district_name': 'Barabanki', 'block_name': 'Banki', 'pincode': 225001, 'from': '09:00:00', 'to': '17:00:00', 'lat': 26, 'long': 81, 'fee_type': 'Free', 'session_id': '1806d601-c14c-4ecd-950d-8fb703b7b830', 'date': '07-05-2021', 'available_capacity': 37, 'fee': '0', 'min_age_limit': 45, 'vaccine': 'COVISHIELD', 'slots': ['09:00AM-11:00AM', '11:00AM-01:00PM', '01:00PM-03:00PM', '03:00PM-05:00PM']}, {'center_id': 617543, 'name': 'PHC Rasuli', 'address': 'Rasuli', 'state_name': 'Uttar Pradesh', 'district_name': 'Barabanki', 'block_name': 'Masauli', 'pincode': 225001, 'from': '09:00:00', 'to': '17:00:00', 'lat': 26, 'long': 81, 'fee_type': 'Free', 'session_id': '4d5e0fce-fcdc-4d73-8b25-5c7bcf562ce3', 'date': '07-05-2021', 'available_capacity': 44, 'fee': '0', 'min_age_limit': 45, 'vaccine': 'COVISHIELD', 'slots': ['09:00AM-11:00AM', '11:00AM-01:00PM', '01:00PM-03:00PM', '03:00PM-05:00PM']}]\n",
      "Processing sessions\n",
      "Inside For loop\n",
      "Getting capacity 45\n",
      "COVAXIN\n",
      "Got Sessions {18: False, 45: True}\n",
      "Inside For loop\n",
      "Getting capacity 37\n",
      "COVISHIELD\n",
      "Got Sessions {18: False, 45: True}\n",
      "Inside For loop\n",
      "Getting capacity 37\n",
      "COVISHIELD\n",
      "Got Sessions {18: False, 45: True}\n",
      "[]\n",
      "[{'center_id': 660993, 'name': 'Sardar Vallabh Bhai Patel 2', 'address': 'East Patel Nagar, New Delhi-110008', 'state_name': 'Delhi', 'district_name': 'West Delhi', 'block_name': 'Not Applicable', 'pincode': 110008, 'from': '09:00:00', 'to': '17:00:00', 'lat': 28, 'long': 77, 'fee_type': 'Free', 'session_id': 'f31b41c7-4345-451a-b4d1-dd5dfb97b665', 'date': '07-05-2021', 'available_capacity': 179, 'fee': '0', 'min_age_limit': 45, 'vaccine': 'COVISHIELD', 'slots': ['09:00AM-11:00AM', '11:00AM-01:00PM', '01:00PM-03:00PM', '03:00PM-05:00PM']}, {'center_id': 660992, 'name': 'Sardar Vallabh Bhai Patel 3', 'address': 'East Patel Nagar, New Delhi-110008', 'state_name': 'Delhi', 'district_name': 'West Delhi', 'block_name': 'Not Applicable', 'pincode': 110008, 'from': '09:00:00', 'to': '17:00:00', 'lat': 28, 'long': 77, 'fee_type': 'Free', 'session_id': '86e75184-1525-4346-a6f8-1082e1748793', 'date': '07-05-2021', 'available_capacity': 192, 'fee': '0', 'min_age_limit': 45, 'vaccine': 'COVISHIELD', 'slots': ['09:00AM-11:00AM', '11:00AM-01:00PM', '01:00PM-03:00PM', '03:00PM-05:00PM']}, {'center_id': 1208, 'name': 'Sardar Vallabh Bhai Patel', 'address': 'East Patel Nagar, New Delhi-110008', 'state_name': 'Delhi', 'district_name': 'West Delhi', 'block_name': 'Not Applicable', 'pincode': 110008, 'from': '09:00:00', 'to': '17:00:00', 'lat': 28, 'long': 77, 'fee_type': 'Free', 'session_id': 'a62fe77d-5586-4df7-a099-3ef720f7dfe9', 'date': '07-05-2021', 'available_capacity': 160, 'fee': '0', 'min_age_limit': 45, 'vaccine': 'COVISHIELD', 'slots': ['09:00AM-11:00AM', '11:00AM-01:00PM', '01:00PM-03:00PM', '03:00PM-05:00PM']}]\n",
      "Processing sessions\n",
      "Inside For loop\n",
      "Getting capacity 179\n",
      "COVISHIELD\n",
      "Got Sessions {18: False, 45: True}\n",
      "Inside For loop\n",
      "Getting capacity 179\n",
      "COVISHIELD\n",
      "Got Sessions {18: False, 45: True}\n",
      "Inside For loop\n",
      "Getting capacity 160\n",
      "COVISHIELD\n",
      "Got Sessions {18: False, 45: True}\n"
     ]
    },
    {
     "name": "stderr",
     "output_type": "stream",
     "text": [
      "2021-05-07 17:52:26 INFO     Waiting...For COWIN\n",
      "2021-05-07 17:52:26 INFO     Getting sessions\n",
      "2021-05-07 17:52:26 INFO     Got Sessions\n",
      "2021-05-07 17:52:26 INFO     Waiting...For COWIN\n",
      "2021-05-07 17:52:26 INFO     Getting sessions\n",
      "2021-05-07 17:52:26 INFO     Got Sessions\n",
      "2021-05-07 17:52:26 INFO     Waiting...For COWIN\n",
      "2021-05-07 17:52:26 INFO     Getting sessions\n"
     ]
    },
    {
     "name": "stdout",
     "output_type": "stream",
     "text": [
      "[]\n",
      "[]\n"
     ]
    },
    {
     "name": "stderr",
     "output_type": "stream",
     "text": [
      "2021-05-07 17:52:26 INFO     Got Sessions\n",
      "2021-05-07 17:52:26 INFO     Waiting...For COWIN\n",
      "2021-05-07 17:52:26 INFO     Getting sessions\n",
      "2021-05-07 17:52:26 INFO     Got Sessions\n",
      "2021-05-07 17:52:26 INFO     Waiting...For COWIN\n",
      "2021-05-07 17:52:26 INFO     Getting sessions\n"
     ]
    },
    {
     "name": "stdout",
     "output_type": "stream",
     "text": [
      "[]\n",
      "[]\n"
     ]
    },
    {
     "name": "stderr",
     "output_type": "stream",
     "text": [
      "2021-05-07 17:52:26 INFO     Got Sessions\n",
      "2021-05-07 17:52:26 INFO     Waiting...For COWIN\n",
      "2021-05-07 17:52:26 INFO     Getting sessions\n",
      "2021-05-07 17:52:26 INFO     Got Sessions\n",
      "2021-05-07 17:52:26 INFO     Waiting...For COWIN\n",
      "2021-05-07 17:52:26 INFO     Getting sessions\n",
      "2021-05-07 17:52:26 INFO     Got Sessions\n",
      "2021-05-07 17:52:26 INFO     Thinking 45\n",
      "2021-05-07 17:52:26 INFO     Waiting...For COWIN\n",
      "2021-05-07 17:52:26 INFO     Getting sessions\n"
     ]
    },
    {
     "name": "stdout",
     "output_type": "stream",
     "text": [
      "[]\n",
      "[]\n",
      "[{'center_id': 664895, 'name': 'APHC SWEHEDI C V CHANDAK', 'address': 'CHANDAK', 'state_name': 'Uttar Pradesh', 'district_name': 'Bijnour', 'block_name': 'Chandak', 'pincode': 246701, 'from': '09:00:00', 'to': '17:00:00', 'lat': 0, 'long': 0, 'fee_type': 'Free', 'session_id': '9e11bffe-293f-442f-b3fa-ef81b8327dee', 'date': '08-05-2021', 'available_capacity': 98, 'fee': '0', 'min_age_limit': 45, 'vaccine': 'COVAXIN', 'slots': ['09:00AM-11:00AM', '11:00AM-01:00PM', '01:00PM-03:00PM', '03:00PM-05:00PM']}]\n",
      "Processing sessions\n",
      "Inside For loop\n",
      "Getting capacity 98\n",
      "COVAXIN\n",
      "Got Sessions {18: False, 45: True}\n"
     ]
    },
    {
     "name": "stderr",
     "output_type": "stream",
     "text": [
      "2021-05-07 17:52:27 INFO     Got Sessions\n",
      "2021-05-07 17:52:27 INFO     Thinking 45\n",
      "2021-05-07 17:52:27 INFO     Thinking 45\n",
      "2021-05-07 17:52:27 INFO     Thinking 45\n",
      "2021-05-07 17:52:27 INFO     Thinking 45\n",
      "2021-05-07 17:52:27 INFO     Waiting...For COWIN\n",
      "2021-05-07 17:52:27 INFO     Getting sessions\n",
      "2021-05-07 17:52:27 INFO     Got Sessions\n",
      "2021-05-07 17:52:27 INFO     Waiting...For COWIN\n",
      "2021-05-07 17:52:27 INFO     Getting sessions\n",
      "2021-05-07 17:52:27 INFO     Got Sessions\n",
      "2021-05-07 17:52:27 INFO     Waiting...For COWIN\n",
      "2021-05-07 17:52:27 INFO     Getting sessions\n"
     ]
    },
    {
     "name": "stdout",
     "output_type": "stream",
     "text": [
      "[{'center_id': 1230, 'name': 'DGD Prem Nagar PHC', 'address': 'Delhi Govt. Dispensary Prem Nagar, Basti Vikas Kendra,Near Community Centre,Premnagar, New Delhi', 'state_name': 'Delhi', 'district_name': 'West Delhi', 'block_name': 'Not Applicable', 'pincode': 110008, 'from': '09:00:00', 'to': '17:00:00', 'lat': 28, 'long': 77, 'fee_type': 'Free', 'session_id': '7d583055-fd15-4bdb-b11c-a89f9209488b', 'date': '08-05-2021', 'available_capacity': 1, 'fee': '0', 'min_age_limit': 45, 'vaccine': 'COVISHIELD', 'slots': ['09:00AM-11:00AM', '11:00AM-01:00PM', '01:00PM-03:00PM', '03:00PM-05:00PM']}, {'center_id': 1208, 'name': 'Sardar Vallabh Bhai Patel', 'address': 'East Patel Nagar New Delhi-110008', 'state_name': 'Delhi', 'district_name': 'West Delhi', 'block_name': 'Not Applicable', 'pincode': 110008, 'from': '09:00:00', 'to': '17:00:00', 'lat': 28, 'long': 77, 'fee_type': 'Free', 'session_id': '9ff880ed-5e5e-4dee-bfb6-57347f87087e', 'date': '08-05-2021', 'available_capacity': 114, 'fee': '0', 'min_age_limit': 45, 'vaccine': 'COVISHIELD', 'slots': ['09:00AM-11:00AM', '11:00AM-01:00PM', '01:00PM-03:00PM', '03:00PM-05:00PM']}, {'center_id': 660992, 'name': 'Sardar Vallabh Bhai Patel 3', 'address': 'East Patel Nagar, New Delhi-110008', 'state_name': 'Delhi', 'district_name': 'West Delhi', 'block_name': 'Not Applicable', 'pincode': 110008, 'from': '09:00:00', 'to': '17:00:00', 'lat': 28, 'long': 77, 'fee_type': 'Free', 'session_id': '7613359c-c366-4b33-a557-d695d6ef5d62', 'date': '08-05-2021', 'available_capacity': 180, 'fee': '0', 'min_age_limit': 45, 'vaccine': 'COVISHIELD', 'slots': ['09:00AM-11:00AM', '11:00AM-01:00PM', '01:00PM-03:00PM', '03:00PM-05:00PM']}, {'center_id': 660993, 'name': 'Sardar Vallabh Bhai Patel 2', 'address': 'East Patel Nagar, New Delhi-110008', 'state_name': 'Delhi', 'district_name': 'West Delhi', 'block_name': 'Not Applicable', 'pincode': 110008, 'from': '09:00:00', 'to': '17:00:00', 'lat': 28, 'long': 77, 'fee_type': 'Free', 'session_id': '5f52a756-d4f9-4b7c-8801-9d982c2e8d07', 'date': '08-05-2021', 'available_capacity': 180, 'fee': '0', 'min_age_limit': 45, 'vaccine': 'COVISHIELD', 'slots': ['09:00AM-11:00AM', '11:00AM-01:00PM', '01:00PM-03:00PM', '03:00PM-05:00PM']}]\n",
      "Processing sessions\n",
      "Inside For loop\n",
      "Getting capacity 1\n",
      "COVISHIELD\n",
      "Got Sessions {18: False, 45: True}\n",
      "Inside For loop\n",
      "Getting capacity 1\n",
      "COVISHIELD\n",
      "Got Sessions {18: False, 45: True}\n",
      "Inside For loop\n",
      "Getting capacity 1\n",
      "COVISHIELD\n",
      "Got Sessions {18: False, 45: True}\n",
      "Inside For loop\n",
      "Getting capacity 1\n",
      "COVISHIELD\n",
      "Got Sessions {18: False, 45: True}\n",
      "[]\n",
      "[]\n"
     ]
    },
    {
     "name": "stderr",
     "output_type": "stream",
     "text": [
      "2021-05-07 17:52:27 INFO     Got Sessions\n",
      "2021-05-07 17:52:27 INFO     Waiting...For COWIN\n",
      "2021-05-07 17:52:27 INFO     Getting sessions\n",
      "2021-05-07 17:52:27 INFO     Got Sessions\n",
      "2021-05-07 17:52:27 INFO     Waiting...For COWIN\n",
      "2021-05-07 17:52:27 INFO     Getting sessions\n",
      "2021-05-07 17:52:27 INFO     Got Sessions\n",
      "2021-05-07 17:52:27 INFO     Waiting...For COWIN\n",
      "2021-05-07 17:52:27 INFO     Getting sessions\n"
     ]
    },
    {
     "name": "stdout",
     "output_type": "stream",
     "text": [
      "[]\n",
      "[]\n",
      "[]\n"
     ]
    },
    {
     "name": "stderr",
     "output_type": "stream",
     "text": [
      "2021-05-07 17:52:27 INFO     Got Sessions\n",
      "2021-05-07 17:52:27 INFO     Waiting...For COWIN\n",
      "2021-05-07 17:52:27 INFO     Getting sessions\n",
      "2021-05-07 17:52:27 INFO     Got Sessions\n",
      "2021-05-07 17:52:27 INFO     Waiting...For COWIN\n",
      "2021-05-07 17:52:27 INFO     Getting sessions\n",
      "2021-05-07 17:52:27 INFO     Got Sessions\n",
      "2021-05-07 17:52:27 INFO     Waiting...For COWIN\n"
     ]
    },
    {
     "name": "stdout",
     "output_type": "stream",
     "text": [
      "[]\n",
      "[]\n",
      "[]\n"
     ]
    }
   ],
   "source": [
    "await checkCowin()\n"
   ],
   "metadata": {
    "collapsed": false,
    "pycharm": {
     "name": "#%%\n"
    }
   }
  },
  {
   "cell_type": "code",
   "execution_count": 11,
   "outputs": [
    {
     "data": {
      "text/plain": "52349"
     },
     "execution_count": 11,
     "metadata": {},
     "output_type": "execute_result"
    }
   ],
   "source": [
    "int(today.strftime(\"%w%H%M\"))"
   ],
   "metadata": {
    "collapsed": false,
    "pycharm": {
     "name": "#%%\n"
    }
   }
  },
  {
   "cell_type": "code",
   "execution_count": 5,
   "outputs": [],
   "source": [
    "\n",
    "def updatePeopleVaccinated():\n",
    "\n",
    "        download_file(\"http://api.covid19india.org/csv/latest/vaccine_doses_statewise.csv\")\n",
    "        df = pd.read_csv(\"vaccine_doses_statewise.csv\")\n",
    "        completedNumber = df[(datetime.date.today() + datetime.timedelta(days=-2)).strftime(\"%d/%m/%Y\")].iloc[-1]\n",
    "\n",
    "        totalNumber = 1390885000\n",
    "        totalBox = 15\n",
    "        fillBox = round((completedNumber/totalNumber) * totalBox)\n",
    "        bar = \"\"\n",
    "        for i in range(totalBox):\n",
    "            if i < fillBox:\n",
    "                bar += \"▓\"\n",
    "            else:\n",
    "                bar += \"░\"\n",
    "        bar += \" \" + str(round((completedNumber/totalNumber)*100)) + \"%\" + \"\\n\" + completedNumber.__str__() + \" of \" + totalNumber.__str__() + \" people in India vaccinated\"\n",
    "        try:\n",
    "            api.update_status(bar)\n",
    "            logger.info(bar)\n",
    "        except:\n",
    "            logger.info(\"Unable to update %age\")"
   ],
   "metadata": {
    "collapsed": false,
    "pycharm": {
     "name": "#%%\n"
    }
   }
  },
  {
   "cell_type": "code",
   "execution_count": 7,
   "outputs": [],
   "source": [
    "if 52000 == int(today.strftime(\"%w%H%M\")):\n",
    "    await updatePeopleVaccinated()"
   ],
   "metadata": {
    "collapsed": false,
    "pycharm": {
     "name": "#%%\n"
    }
   }
  },
  {
   "cell_type": "code",
   "execution_count": 9,
   "outputs": [
    {
     "data": {
      "text/plain": "False"
     },
     "execution_count": 9,
     "metadata": {},
     "output_type": "execute_result"
    }
   ],
   "source": [
    "52352 == int(today.strftime(\"%w%H%M\"))"
   ],
   "metadata": {
    "collapsed": false,
    "pycharm": {
     "name": "#%%\n"
    }
   }
  },
  {
   "cell_type": "code",
   "execution_count": 15,
   "outputs": [],
   "source": [
    "baseURL = \"https://cdn-api.co-vin.in/api/v2/appointment/sessions/public/findByPin?\"\n",
    "df = pd.read_csv(\"UserData.csv\")\n",
    "for date in dates:\n",
    "    for pin in df[\"Pin\"].unique():\n",
    "\n",
    "        completeURL = baseURL+\"date=\"+date + \"&pincode=\" + str(pin)\n",
    "        sessions = requests.get(completeURL)"
   ],
   "metadata": {
    "collapsed": false,
    "pycharm": {
     "name": "#%%\n"
    }
   }
  },
  {
   "cell_type": "code",
   "execution_count": 17,
   "outputs": [
    {
     "data": {
      "text/plain": "'<!DOCTYPE HTML PUBLIC \"-//W3C//DTD HTML 4.01 Transitional//EN\" \"http://www.w3.org/TR/html4/loose.dtd\">\\n<HTML><HEAD><META HTTP-EQUIV=\"Content-Type\" CONTENT=\"text/html; charset=iso-8859-1\">\\n<TITLE>ERROR: The request could not be satisfied</TITLE>\\n</HEAD><BODY>\\n<H1>403 ERROR</H1>\\n<H2>The request could not be satisfied.</H2>\\n<HR noshade size=\"1px\">\\nRequest blocked.\\nWe can\\'t connect to the server for this app or website at this time. There might be too much traffic or a configuration error. Try again later, or contact the app or website owner.\\n<BR clear=\"all\">\\nIf you provide content to customers through CloudFront, you can find steps to troubleshoot and help prevent this error by reviewing the CloudFront documentation.\\n<BR clear=\"all\">\\n<HR noshade size=\"1px\">\\n<PRE>\\nGenerated by cloudfront (CloudFront)\\nRequest ID: uXbNfEZu1aqE2YGTzKEt-dLhYXsh2zpKOGu54uz_OqOWVf3AxO40yA==\\n</PRE>\\n<ADDRESS>\\n</ADDRESS>\\n</BODY></HTML>'"
     },
     "execution_count": 17,
     "metadata": {},
     "output_type": "execute_result"
    }
   ],
   "source": [
    "sessions.text"
   ],
   "metadata": {
    "collapsed": false,
    "pycharm": {
     "name": "#%%\n"
    }
   }
  },
  {
   "cell_type": "code",
   "execution_count": null,
   "outputs": [],
   "source": [],
   "metadata": {
    "collapsed": false,
    "pycharm": {
     "name": "#%%\n"
    }
   }
  }
 ],
 "metadata": {
  "kernelspec": {
   "display_name": "Python 3",
   "language": "python",
   "name": "python3"
  },
  "language_info": {
   "codemirror_mode": {
    "name": "ipython",
    "version": 2
   },
   "file_extension": ".py",
   "mimetype": "text/x-python",
   "name": "python",
   "nbconvert_exporter": "python",
   "pygments_lexer": "ipython2",
   "version": "2.7.6"
  }
 },
 "nbformat": 4,
 "nbformat_minor": 0
}