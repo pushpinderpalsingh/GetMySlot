{
 "cells": [
  {
   "cell_type": "code",
   "execution_count": 1,
   "metadata": {
    "collapsed": true
   },
   "outputs": [],
   "source": [
    "import config\n",
    "import tweepy\n",
    "import pandas as pd"
   ]
  },
  {
   "cell_type": "code",
   "execution_count": 96,
   "outputs": [],
   "source": [
    "df = pd.read_csv(\"UserData.csv\")"
   ],
   "metadata": {
    "collapsed": false,
    "pycharm": {
     "name": "#%%\n"
    }
   }
  },
  {
   "cell_type": "code",
   "execution_count": 3,
   "outputs": [],
   "source": [
    "auth = tweepy.OAuthHandler(config.key,config.scret_key)\n",
    "auth.set_access_token(config.access_token,config.access_token_secret)\n",
    "api = tweepy.API(auth)"
   ],
   "metadata": {
    "collapsed": false,
    "pycharm": {
     "name": "#%%\n"
    }
   }
  },
  {
   "cell_type": "code",
   "execution_count": 119,
   "outputs": [],
   "source": [
    "mentions = api.mentions_timeline()\n",
    "\n",
    "for mention in mentions:\n",
    "    splitt = mention.text.split(\" \")\n",
    "    username = mention.user.screen_name\n",
    "    tweetID = mention.id\n",
    "    # try:\n",
    "    #\n",
    "    #     api.destroy_status(tweetID)\n",
    "    #     print(\"Booooom\")\n",
    "    # except:\n",
    "    #     print(\"Boom\")\n",
    "    #     continue\n",
    "    try:\n",
    "        pin = splitt[2]\n",
    "        age = int(splitt[3].split(\"+\")[0])\n",
    "        reply = \"@\" + username + \" You have been successfuly subscribed. I will be reminding you when vaccine slot is available at your pincode \" + pin\n",
    "        if df[\"Username\"].any()==username :\n",
    "            reply = \"@\" + username + \" \" + \"You are already subscribed\"\n",
    "        else:\n",
    "            df = df.append({ \"Username\": username,\"TweetID\": tweetID, \"Pin\": pin, \"Age\": age},ignore_index=True)\n",
    "        api.update_status(reply,tweetID)\n",
    "        print(pin,age,username,tweetID)\n",
    "    except:\n",
    "        print(\"Wrong tweet\")\n",
    "        reply = \"@\" + username + \" \" + 'There seems to be an error. Please make sure your tweet is in the format \". @ getmyslot subscribe <Pin Code> <Age>\" An example of valid query will be following'\n",
    "        file = open(\"ss.jpeg\" , \"rb\")\n",
    "        r1 = api.media_upload(filename=\"ss.jpeg\",file=file)\n",
    "        api.update_status(reply,tweetID,media_ids=[r1.media_id_string])\n",
    "        continue"
   ],
   "metadata": {
    "collapsed": false,
    "pycharm": {
     "name": "#%%\n"
    }
   }
  },
  {
   "cell_type": "code",
   "execution_count": 121,
   "outputs": [],
   "source": [
    "df.to_csv(\"UserData.csv\",index=False)\n"
   ],
   "metadata": {
    "collapsed": false,
    "pycharm": {
     "name": "#%%\n"
    }
   }
  }
 ],
 "metadata": {
  "kernelspec": {
   "display_name": "Python 3",
   "language": "python",
   "name": "python3"
  },
  "language_info": {
   "codemirror_mode": {
    "name": "ipython",
    "version": 2
   },
   "file_extension": ".py",
   "mimetype": "text/x-python",
   "name": "python",
   "nbconvert_exporter": "python",
   "pygments_lexer": "ipython2",
   "version": "2.7.6"
  }
 },
 "nbformat": 4,
 "nbformat_minor": 0
}