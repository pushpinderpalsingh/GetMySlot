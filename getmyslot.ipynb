{
 "cells": [
  {
   "cell_type": "code",
   "execution_count": null,
   "outputs": [],
   "source": [
    "import config\n",
    "import tweepy\n",
    "import pandas as pd\n",
    "import requests\n",
    "import datetime"
   ],
   "metadata": {
    "collapsed": false,
    "pycharm": {
     "name": "#%%\n"
    }
   }
  },
  {
   "cell_type": "code",
   "execution_count": null,
   "outputs": [],
   "source": [
    "today = datetime.datetime.today()\n",
    "tomorrow = today + datetime.timedelta(days=1)\n",
    "dayAfter = today + datetime.timedelta(days=2)\n",
    "dates = [today.strftime(\"%d-%m-%Y\"),tomorrow.strftime(\"%d-%m-%Y\"),dayAfter.strftime(\"%d-%m-%Y\")]\n",
    "failedTweet = [1389616776728645636]"
   ],
   "metadata": {
    "collapsed": false,
    "pycharm": {
     "name": "#%%\n"
    }
   }
  },
  {
   "cell_type": "code",
   "execution_count": null,
   "outputs": [],
   "source": [
    "clean = False\n",
    "df = pd.read_csv(\"UserData.csv\")"
   ],
   "metadata": {
    "collapsed": false,
    "pycharm": {
     "name": "#%%\n"
    }
   }
  },
  {
   "cell_type": "code",
   "execution_count": null,
   "outputs": [],
   "source": [
    "auth = tweepy.OAuthHandler(config.key,config.scret_key)\n",
    "auth.set_access_token(config.access_token,config.access_token_secret)\n",
    "api = tweepy.API(auth)"
   ],
   "metadata": {
    "collapsed": false,
    "pycharm": {
     "name": "#%%\n"
    }
   }
  },
  {
   "cell_type": "code",
   "execution_count": null,
   "outputs": [],
   "source": [
    "df = pd.read_csv(\"UserData.csv\")\n",
    "\n",
    "sinceID = max(df.TweetID.max(),max(failedTweet))\n",
    "for mention in tweepy.Cursor(api.mentions_timeline,since_id=sinceID).items():\n",
    "    splitt = mention.text.split(\" \")\n",
    "    username = mention.user.screen_name\n",
    "    tweetID = mention.id\n",
    "\n",
    "    if clean:\n",
    "        try:\n",
    "            api.destroy_status(tweetID)\n",
    "            print(\"Clean: Deleted\")\n",
    "        except:\n",
    "            print(\"Clean: Skipped\")\n",
    "            continue\n",
    "    else:\n",
    "        try:\n",
    "            pin = splitt[2]\n",
    "            age = int(splitt[3].split(\"+\")[0])\n",
    "            reply = \"@\" + username + \" You have been successfuly subscribed. I will be reminding you when vaccine slot is available at your pincode \" + pin\n",
    "            api.update_status(reply,tweetID)\n",
    "            df = df.append({ \"Username\": username,\"TweetID\": tweetID, \"Pin\": pin, \"Age\": age},ignore_index=True)\n",
    "            print(pin,age,username,tweetID)\n",
    "        except:\n",
    "            reply = \"@\" + username + \" \" + 'There seems to be an error. Please make sure your tweet is in the following format ' + \"errorid:\" + datetime.datetime.now().strftime(\"%Y%m%d%H%M%S\")\n",
    "            file = open(\"ss.jpeg\" , \"rb\")\n",
    "            r1 = api.media_upload(filename=\"ss.jpeg\",file=file)\n",
    "            api.update_status(reply,tweetID,media_ids=[r1.media_id_string])\n",
    "            print(\"Wrong tweet\")\n",
    "            failedTweet.append(tweetID)\n",
    "            continue\n",
    "\n",
    "df.to_csv(\"UserData.csv\",index=False)"
   ],
   "metadata": {
    "collapsed": false,
    "pycharm": {
     "name": "#%%\n"
    }
   }
  },
  {
   "cell_type": "code",
   "execution_count": null,
   "outputs": [],
   "source": [
    "baseURL = \"https://cdn-api.co-vin.in/api/v2/appointment/sessions/public/findByPin?\"\n",
    "df = pd.read_csv(\"UserData.csv\")\n",
    "for date in dates:\n",
    "    for pin in df[\"Pin\"].unique():\n",
    "\n",
    "        completeURL = baseURL+\"date=\"+date + \"&pincode=\" + str(pin)\n",
    "        try:\n",
    "            sessions = requests.get(completeURL).json()[\"sessions\"]\n",
    "        except:\n",
    "            print(\"Failed to get new sessions\")\n",
    "\n",
    "        if sessions:\n",
    "            vaccines = {\"COVISHIELD\" : False, \"COVAXIN\" : False}\n",
    "            minAge = {18:False,45:False}\n",
    "            availableCapacity = sys.maxsize\n",
    "\n",
    "            for session in sessions:\n",
    "                availableCapacity = min(availableCapacity,int(session[\"available_capacity\"]))\n",
    "                vaccines[session[\"vaccine\"]] = True\n",
    "                minAge[session[\"min_age_limit\"]] = True\n",
    "            if minAge[18]:\n",
    "                tweetAt(availableCapacity,vaccines,pin,date,18)\n",
    "            if minAge[45]:\n",
    "                tweetAt(availableCapacity,vaccines,pin,date,45)\n",
    "\n",
    "        else:\n",
    "            continue"
   ],
   "metadata": {
    "collapsed": false,
    "pycharm": {
     "name": "#%%\n"
    }
   }
  },
  {
   "cell_type": "code",
   "execution_count": 118,
   "outputs": [],
   "source": [
    "def tweetAt(availableCapacity,vaccines,pin,date,age):\n",
    "\n",
    "    reply = \"Atleast \" + str(availableCapacity) + \" slot(s) for \" + \" and \".join([v for v,b in vaccines.items() if b == True]) + \" is available for age \" + str(age) + \"+ at pin \" + str(pin) + \" for \" + date\n",
    "    newDF = df.dropna()\n",
    "    tweetIDs = newDF.loc[(df[\"Age\"]==age) & (df[\"Pin\"]==pin),[\"TweetID\"]]\n",
    "\n",
    "    for tweetID in tweetIDs.TweetID:\n",
    "        username = df.loc[df[\"TweetID\"]==tweetID,[\"Username\"]].Username.item()\n",
    "        tweet = \"@\" + username + \" \" + reply\n",
    "        print(tweet)\n",
    "        api.update_status(tweet,tweetID)"
   ],
   "metadata": {
    "collapsed": false,
    "pycharm": {
     "name": "#%%\n"
    }
   }
  },
  {
   "cell_type": "code",
   "execution_count": 119,
   "outputs": [
    {
     "data": {
      "text/plain": "Status(_api=<tweepy.api.API object at 0x1166225e0>, _json={'created_at': 'Tue May 04 16:32:06 +0000 2021', 'id': 1389618850476396545, 'id_str': '1389618850476396545', 'text': 'I AM ALIVE', 'truncated': False, 'entities': {'hashtags': [], 'symbols': [], 'user_mentions': [], 'urls': []}, 'source': '<a href=\"https://help.twitter.com/en/using-twitter/how-to-tweet#source-labels\" rel=\"nofollow\">getThisSlot</a>', 'in_reply_to_status_id': None, 'in_reply_to_status_id_str': None, 'in_reply_to_user_id': None, 'in_reply_to_user_id_str': None, 'in_reply_to_screen_name': None, 'user': {'id': 1389340423332659206, 'id_str': '1389340423332659206', 'name': 'CowinHelper', 'screen_name': 'getmyslot', 'location': '', 'description': '', 'url': None, 'entities': {'description': {'urls': []}}, 'protected': False, 'followers_count': 0, 'friends_count': 0, 'listed_count': 0, 'created_at': 'Mon May 03 22:05:54 +0000 2021', 'favourites_count': 0, 'utc_offset': None, 'time_zone': None, 'geo_enabled': False, 'verified': False, 'statuses_count': 67, 'lang': None, 'contributors_enabled': False, 'is_translator': False, 'is_translation_enabled': False, 'profile_background_color': 'F5F8FA', 'profile_background_image_url': None, 'profile_background_image_url_https': None, 'profile_background_tile': False, 'profile_image_url': 'http://abs.twimg.com/sticky/default_profile_images/default_profile_normal.png', 'profile_image_url_https': 'https://abs.twimg.com/sticky/default_profile_images/default_profile_normal.png', 'profile_link_color': '1DA1F2', 'profile_sidebar_border_color': 'C0DEED', 'profile_sidebar_fill_color': 'DDEEF6', 'profile_text_color': '333333', 'profile_use_background_image': True, 'has_extended_profile': True, 'default_profile': True, 'default_profile_image': True, 'following': False, 'follow_request_sent': False, 'notifications': False, 'translator_type': 'none', 'withheld_in_countries': []}, 'geo': None, 'coordinates': None, 'place': None, 'contributors': None, 'is_quote_status': False, 'retweet_count': 0, 'favorite_count': 0, 'favorited': False, 'retweeted': False, 'lang': 'en'}, created_at=datetime.datetime(2021, 5, 4, 16, 32, 6), id=1389618850476396545, id_str='1389618850476396545', text='I AM ALIVE', truncated=False, entities={'hashtags': [], 'symbols': [], 'user_mentions': [], 'urls': []}, source='getThisSlot', source_url='https://help.twitter.com/en/using-twitter/how-to-tweet#source-labels', in_reply_to_status_id=None, in_reply_to_status_id_str=None, in_reply_to_user_id=None, in_reply_to_user_id_str=None, in_reply_to_screen_name=None, author=User(_api=<tweepy.api.API object at 0x1166225e0>, _json={'id': 1389340423332659206, 'id_str': '1389340423332659206', 'name': 'CowinHelper', 'screen_name': 'getmyslot', 'location': '', 'description': '', 'url': None, 'entities': {'description': {'urls': []}}, 'protected': False, 'followers_count': 0, 'friends_count': 0, 'listed_count': 0, 'created_at': 'Mon May 03 22:05:54 +0000 2021', 'favourites_count': 0, 'utc_offset': None, 'time_zone': None, 'geo_enabled': False, 'verified': False, 'statuses_count': 67, 'lang': None, 'contributors_enabled': False, 'is_translator': False, 'is_translation_enabled': False, 'profile_background_color': 'F5F8FA', 'profile_background_image_url': None, 'profile_background_image_url_https': None, 'profile_background_tile': False, 'profile_image_url': 'http://abs.twimg.com/sticky/default_profile_images/default_profile_normal.png', 'profile_image_url_https': 'https://abs.twimg.com/sticky/default_profile_images/default_profile_normal.png', 'profile_link_color': '1DA1F2', 'profile_sidebar_border_color': 'C0DEED', 'profile_sidebar_fill_color': 'DDEEF6', 'profile_text_color': '333333', 'profile_use_background_image': True, 'has_extended_profile': True, 'default_profile': True, 'default_profile_image': True, 'following': False, 'follow_request_sent': False, 'notifications': False, 'translator_type': 'none', 'withheld_in_countries': []}, id=1389340423332659206, id_str='1389340423332659206', name='CowinHelper', screen_name='getmyslot', location='', description='', url=None, entities={'description': {'urls': []}}, protected=False, followers_count=0, friends_count=0, listed_count=0, created_at=datetime.datetime(2021, 5, 3, 22, 5, 54), favourites_count=0, utc_offset=None, time_zone=None, geo_enabled=False, verified=False, statuses_count=67, lang=None, contributors_enabled=False, is_translator=False, is_translation_enabled=False, profile_background_color='F5F8FA', profile_background_image_url=None, profile_background_image_url_https=None, profile_background_tile=False, profile_image_url='http://abs.twimg.com/sticky/default_profile_images/default_profile_normal.png', profile_image_url_https='https://abs.twimg.com/sticky/default_profile_images/default_profile_normal.png', profile_link_color='1DA1F2', profile_sidebar_border_color='C0DEED', profile_sidebar_fill_color='DDEEF6', profile_text_color='333333', profile_use_background_image=True, has_extended_profile=True, default_profile=True, default_profile_image=True, following=False, follow_request_sent=False, notifications=False, translator_type='none', withheld_in_countries=[]), user=User(_api=<tweepy.api.API object at 0x1166225e0>, _json={'id': 1389340423332659206, 'id_str': '1389340423332659206', 'name': 'CowinHelper', 'screen_name': 'getmyslot', 'location': '', 'description': '', 'url': None, 'entities': {'description': {'urls': []}}, 'protected': False, 'followers_count': 0, 'friends_count': 0, 'listed_count': 0, 'created_at': 'Mon May 03 22:05:54 +0000 2021', 'favourites_count': 0, 'utc_offset': None, 'time_zone': None, 'geo_enabled': False, 'verified': False, 'statuses_count': 67, 'lang': None, 'contributors_enabled': False, 'is_translator': False, 'is_translation_enabled': False, 'profile_background_color': 'F5F8FA', 'profile_background_image_url': None, 'profile_background_image_url_https': None, 'profile_background_tile': False, 'profile_image_url': 'http://abs.twimg.com/sticky/default_profile_images/default_profile_normal.png', 'profile_image_url_https': 'https://abs.twimg.com/sticky/default_profile_images/default_profile_normal.png', 'profile_link_color': '1DA1F2', 'profile_sidebar_border_color': 'C0DEED', 'profile_sidebar_fill_color': 'DDEEF6', 'profile_text_color': '333333', 'profile_use_background_image': True, 'has_extended_profile': True, 'default_profile': True, 'default_profile_image': True, 'following': False, 'follow_request_sent': False, 'notifications': False, 'translator_type': 'none', 'withheld_in_countries': []}, id=1389340423332659206, id_str='1389340423332659206', name='CowinHelper', screen_name='getmyslot', location='', description='', url=None, entities={'description': {'urls': []}}, protected=False, followers_count=0, friends_count=0, listed_count=0, created_at=datetime.datetime(2021, 5, 3, 22, 5, 54), favourites_count=0, utc_offset=None, time_zone=None, geo_enabled=False, verified=False, statuses_count=67, lang=None, contributors_enabled=False, is_translator=False, is_translation_enabled=False, profile_background_color='F5F8FA', profile_background_image_url=None, profile_background_image_url_https=None, profile_background_tile=False, profile_image_url='http://abs.twimg.com/sticky/default_profile_images/default_profile_normal.png', profile_image_url_https='https://abs.twimg.com/sticky/default_profile_images/default_profile_normal.png', profile_link_color='1DA1F2', profile_sidebar_border_color='C0DEED', profile_sidebar_fill_color='DDEEF6', profile_text_color='333333', profile_use_background_image=True, has_extended_profile=True, default_profile=True, default_profile_image=True, following=False, follow_request_sent=False, notifications=False, translator_type='none', withheld_in_countries=[]), geo=None, coordinates=None, place=None, contributors=None, is_quote_status=False, retweet_count=0, favorite_count=0, favorited=False, retweeted=False, lang='en')"
     },
     "execution_count": 119,
     "metadata": {},
     "output_type": "execute_result"
    }
   ],
   "source": [
    "api.update_status(\"I AM ALIVE\")"
   ],
   "metadata": {
    "collapsed": false,
    "pycharm": {
     "name": "#%%\n"
    }
   }
  },
  {
   "cell_type": "code",
   "execution_count": null,
   "outputs": [],
   "source": [],
   "metadata": {
    "collapsed": false,
    "pycharm": {
     "name": "#%%\n"
    }
   }
  }
 ],
 "metadata": {
  "kernelspec": {
   "display_name": "Python 3",
   "language": "python",
   "name": "python3"
  },
  "language_info": {
   "codemirror_mode": {
    "name": "ipython",
    "version": 2
   },
   "file_extension": ".py",
   "mimetype": "text/x-python",
   "name": "python",
   "nbconvert_exporter": "python",
   "pygments_lexer": "ipython2",
   "version": "2.7.6"
  }
 },
 "nbformat": 4,
 "nbformat_minor": 0
}