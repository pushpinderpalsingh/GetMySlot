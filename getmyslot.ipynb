{
 "cells": [
  {
   "cell_type": "code",
   "execution_count": 4,
   "metadata": {
    "collapsed": true
   },
   "outputs": [],
   "source": [
    "import config\n",
    "import tweepy\n",
    "import pandas as pd"
   ]
  },
  {
   "cell_type": "code",
   "execution_count": 5,
   "outputs": [],
   "source": [
    "clean = False"
   ],
   "metadata": {
    "collapsed": false,
    "pycharm": {
     "name": "#%%\n"
    }
   }
  },
  {
   "cell_type": "code",
   "execution_count": 6,
   "outputs": [],
   "source": [
    "df = pd.read_csv(\"UserData.csv\")"
   ],
   "metadata": {
    "collapsed": false,
    "pycharm": {
     "name": "#%%\n"
    }
   }
  },
  {
   "cell_type": "code",
   "execution_count": 7,
   "outputs": [],
   "source": [
    "auth = tweepy.OAuthHandler(config.key,config.scret_key)\n",
    "auth.set_access_token(config.access_token,config.access_token_secret)\n",
    "api = tweepy.API(auth)"
   ],
   "metadata": {
    "collapsed": false,
    "pycharm": {
     "name": "#%%\n"
    }
   }
  },
  {
   "cell_type": "code",
   "execution_count": 10,
   "outputs": [],
   "source": [
    "mentions = api.mentions_timeline()"
   ],
   "metadata": {
    "collapsed": false,
    "pycharm": {
     "name": "#%%\n"
    }
   }
  },
  {
   "cell_type": "code",
   "execution_count": 12,
   "outputs": [
    {
     "name": "stdout",
     "output_type": "stream",
     "text": [
      "Hello\n",
      "Wrong tweet\n",
      "Hello\n",
      "110001 18 get_dash 1389525497302851585\n"
     ]
    }
   ],
   "source": [
    "for mention in mentions:\n",
    "    splitt = mention.text.split(\" \")\n",
    "    username = mention.user.screen_name\n",
    "    tweetID = mention.id\n",
    "    if df[\"TweetID\"].any()==tweetID :\n",
    "        print(\"Tweet Handled\")\n",
    "        continue\n",
    "    if clean:\n",
    "        try:\n",
    "            api.destroy_status(tweetID)\n",
    "            print(\"Clean: Deleted\")\n",
    "        except:\n",
    "            print(\"Clean: Skipped\")\n",
    "            continue\n",
    "    else:\n",
    "        try:\n",
    "            pin = splitt[2]\n",
    "            age = int(splitt[3].split(\"+\")[0])\n",
    "            reply = \"@\" + username + \" You have been successfuly subscribed. I will be reminding you when vaccine slot is available at your pincode \" + pin\n",
    "            if df[\"Username\"].any()==username :\n",
    "                reply = \"@\" + username + \" \" + \"You are already subscribed\"\n",
    "            else:\n",
    "                df = df.append({ \"Username\": username,\"TweetID\": tweetID, \"Pin\": pin, \"Age\": age},ignore_index=True)\n",
    "            api.update_status(reply,tweetID)\n",
    "            print(pin,age,username,tweetID)\n",
    "        except:\n",
    "            print(\"Wrong tweet\")\n",
    "            reply = \"@\" + username + \" \" + 'There seems to be an error. Please make sure your tweet is in the following format'\n",
    "            file = open(\"ss.jpeg\" , \"rb\")\n",
    "            r1 = api.media_upload(filename=\"ss.jpeg\",file=file)\n",
    "            api.update_status(reply,tweetID,media_ids=[r1.media_id_string])\n",
    "            continue"
   ],
   "metadata": {
    "collapsed": false,
    "pycharm": {
     "name": "#%%\n"
    }
   }
  },
  {
   "cell_type": "code",
   "execution_count": 121,
   "outputs": [],
   "source": [
    "df.to_csv(\"UserData.csv\",index=False)"
   ],
   "metadata": {
    "collapsed": false,
    "pycharm": {
     "name": "#%%\n"
    }
   }
  },
  {
   "cell_type": "code",
   "execution_count": 11,
   "outputs": [
    {
     "data": {
      "text/plain": "[Status(_api=<tweepy.api.API object at 0x10f9b6790>, _json={'created_at': 'Tue May 04 10:21:17 +0000 2021', 'id': 1389525530844618754, 'id_str': '1389525530844618754', 'text': '.@getmyslot hello', 'truncated': False, 'entities': {'hashtags': [], 'symbols': [], 'user_mentions': [{'screen_name': 'getmyslot', 'name': 'CowinHelper', 'id': 1389340423332659206, 'id_str': '1389340423332659206', 'indices': [1, 11]}], 'urls': []}, 'source': '<a href=\"https://mobile.twitter.com\" rel=\"nofollow\">Twitter Web App</a>', 'in_reply_to_status_id': None, 'in_reply_to_status_id_str': None, 'in_reply_to_user_id': None, 'in_reply_to_user_id_str': None, 'in_reply_to_screen_name': None, 'user': {'id': 1307710217312899072, 'id_str': '1307710217312899072', 'name': 'SpaceDash', 'screen_name': 'get_dash', 'location': 'Appstore', 'description': 'A Dashboard for Space! Opensourced at Github. Creator @pushpinderpal_. Continued development by OpenSouce Community!', 'url': 'https://t.co/iKyUi9k1Mk', 'entities': {'url': {'urls': [{'url': 'https://t.co/iKyUi9k1Mk', 'expanded_url': 'https://apple.co/2SJWVWB', 'display_url': 'apple.co/2SJWVWB', 'indices': [0, 23]}]}, 'description': {'urls': []}}, 'protected': False, 'followers_count': 2, 'friends_count': 0, 'listed_count': 0, 'created_at': 'Sun Sep 20 15:56:38 +0000 2020', 'favourites_count': 8, 'utc_offset': None, 'time_zone': None, 'geo_enabled': False, 'verified': False, 'statuses_count': 12, 'lang': None, 'contributors_enabled': False, 'is_translator': False, 'is_translation_enabled': False, 'profile_background_color': 'F5F8FA', 'profile_background_image_url': None, 'profile_background_image_url_https': None, 'profile_background_tile': False, 'profile_image_url': 'http://pbs.twimg.com/profile_images/1308053330287976449/_jcAGomg_normal.jpg', 'profile_image_url_https': 'https://pbs.twimg.com/profile_images/1308053330287976449/_jcAGomg_normal.jpg', 'profile_banner_url': 'https://pbs.twimg.com/profile_banners/1307710217312899072/1602165770', 'profile_link_color': '1DA1F2', 'profile_sidebar_border_color': 'C0DEED', 'profile_sidebar_fill_color': 'DDEEF6', 'profile_text_color': '333333', 'profile_use_background_image': True, 'has_extended_profile': True, 'default_profile': True, 'default_profile_image': False, 'following': False, 'follow_request_sent': False, 'notifications': False, 'translator_type': 'none', 'withheld_in_countries': []}, 'geo': None, 'coordinates': None, 'place': None, 'contributors': None, 'is_quote_status': False, 'retweet_count': 0, 'favorite_count': 0, 'favorited': False, 'retweeted': False, 'lang': 'en'}, created_at=datetime.datetime(2021, 5, 4, 10, 21, 17), id=1389525530844618754, id_str='1389525530844618754', text='.@getmyslot hello', truncated=False, entities={'hashtags': [], 'symbols': [], 'user_mentions': [{'screen_name': 'getmyslot', 'name': 'CowinHelper', 'id': 1389340423332659206, 'id_str': '1389340423332659206', 'indices': [1, 11]}], 'urls': []}, source='Twitter Web App', source_url='https://mobile.twitter.com', in_reply_to_status_id=None, in_reply_to_status_id_str=None, in_reply_to_user_id=None, in_reply_to_user_id_str=None, in_reply_to_screen_name=None, author=User(_api=<tweepy.api.API object at 0x10f9b6790>, _json={'id': 1307710217312899072, 'id_str': '1307710217312899072', 'name': 'SpaceDash', 'screen_name': 'get_dash', 'location': 'Appstore', 'description': 'A Dashboard for Space! Opensourced at Github. Creator @pushpinderpal_. Continued development by OpenSouce Community!', 'url': 'https://t.co/iKyUi9k1Mk', 'entities': {'url': {'urls': [{'url': 'https://t.co/iKyUi9k1Mk', 'expanded_url': 'https://apple.co/2SJWVWB', 'display_url': 'apple.co/2SJWVWB', 'indices': [0, 23]}]}, 'description': {'urls': []}}, 'protected': False, 'followers_count': 2, 'friends_count': 0, 'listed_count': 0, 'created_at': 'Sun Sep 20 15:56:38 +0000 2020', 'favourites_count': 8, 'utc_offset': None, 'time_zone': None, 'geo_enabled': False, 'verified': False, 'statuses_count': 12, 'lang': None, 'contributors_enabled': False, 'is_translator': False, 'is_translation_enabled': False, 'profile_background_color': 'F5F8FA', 'profile_background_image_url': None, 'profile_background_image_url_https': None, 'profile_background_tile': False, 'profile_image_url': 'http://pbs.twimg.com/profile_images/1308053330287976449/_jcAGomg_normal.jpg', 'profile_image_url_https': 'https://pbs.twimg.com/profile_images/1308053330287976449/_jcAGomg_normal.jpg', 'profile_banner_url': 'https://pbs.twimg.com/profile_banners/1307710217312899072/1602165770', 'profile_link_color': '1DA1F2', 'profile_sidebar_border_color': 'C0DEED', 'profile_sidebar_fill_color': 'DDEEF6', 'profile_text_color': '333333', 'profile_use_background_image': True, 'has_extended_profile': True, 'default_profile': True, 'default_profile_image': False, 'following': False, 'follow_request_sent': False, 'notifications': False, 'translator_type': 'none', 'withheld_in_countries': []}, id=1307710217312899072, id_str='1307710217312899072', name='SpaceDash', screen_name='get_dash', location='Appstore', description='A Dashboard for Space! Opensourced at Github. Creator @pushpinderpal_. Continued development by OpenSouce Community!', url='https://t.co/iKyUi9k1Mk', entities={'url': {'urls': [{'url': 'https://t.co/iKyUi9k1Mk', 'expanded_url': 'https://apple.co/2SJWVWB', 'display_url': 'apple.co/2SJWVWB', 'indices': [0, 23]}]}, 'description': {'urls': []}}, protected=False, followers_count=2, friends_count=0, listed_count=0, created_at=datetime.datetime(2020, 9, 20, 15, 56, 38), favourites_count=8, utc_offset=None, time_zone=None, geo_enabled=False, verified=False, statuses_count=12, lang=None, contributors_enabled=False, is_translator=False, is_translation_enabled=False, profile_background_color='F5F8FA', profile_background_image_url=None, profile_background_image_url_https=None, profile_background_tile=False, profile_image_url='http://pbs.twimg.com/profile_images/1308053330287976449/_jcAGomg_normal.jpg', profile_image_url_https='https://pbs.twimg.com/profile_images/1308053330287976449/_jcAGomg_normal.jpg', profile_banner_url='https://pbs.twimg.com/profile_banners/1307710217312899072/1602165770', profile_link_color='1DA1F2', profile_sidebar_border_color='C0DEED', profile_sidebar_fill_color='DDEEF6', profile_text_color='333333', profile_use_background_image=True, has_extended_profile=True, default_profile=True, default_profile_image=False, following=False, follow_request_sent=False, notifications=False, translator_type='none', withheld_in_countries=[]), user=User(_api=<tweepy.api.API object at 0x10f9b6790>, _json={'id': 1307710217312899072, 'id_str': '1307710217312899072', 'name': 'SpaceDash', 'screen_name': 'get_dash', 'location': 'Appstore', 'description': 'A Dashboard for Space! Opensourced at Github. Creator @pushpinderpal_. Continued development by OpenSouce Community!', 'url': 'https://t.co/iKyUi9k1Mk', 'entities': {'url': {'urls': [{'url': 'https://t.co/iKyUi9k1Mk', 'expanded_url': 'https://apple.co/2SJWVWB', 'display_url': 'apple.co/2SJWVWB', 'indices': [0, 23]}]}, 'description': {'urls': []}}, 'protected': False, 'followers_count': 2, 'friends_count': 0, 'listed_count': 0, 'created_at': 'Sun Sep 20 15:56:38 +0000 2020', 'favourites_count': 8, 'utc_offset': None, 'time_zone': None, 'geo_enabled': False, 'verified': False, 'statuses_count': 12, 'lang': None, 'contributors_enabled': False, 'is_translator': False, 'is_translation_enabled': False, 'profile_background_color': 'F5F8FA', 'profile_background_image_url': None, 'profile_background_image_url_https': None, 'profile_background_tile': False, 'profile_image_url': 'http://pbs.twimg.com/profile_images/1308053330287976449/_jcAGomg_normal.jpg', 'profile_image_url_https': 'https://pbs.twimg.com/profile_images/1308053330287976449/_jcAGomg_normal.jpg', 'profile_banner_url': 'https://pbs.twimg.com/profile_banners/1307710217312899072/1602165770', 'profile_link_color': '1DA1F2', 'profile_sidebar_border_color': 'C0DEED', 'profile_sidebar_fill_color': 'DDEEF6', 'profile_text_color': '333333', 'profile_use_background_image': True, 'has_extended_profile': True, 'default_profile': True, 'default_profile_image': False, 'following': False, 'follow_request_sent': False, 'notifications': False, 'translator_type': 'none', 'withheld_in_countries': []}, id=1307710217312899072, id_str='1307710217312899072', name='SpaceDash', screen_name='get_dash', location='Appstore', description='A Dashboard for Space! Opensourced at Github. Creator @pushpinderpal_. Continued development by OpenSouce Community!', url='https://t.co/iKyUi9k1Mk', entities={'url': {'urls': [{'url': 'https://t.co/iKyUi9k1Mk', 'expanded_url': 'https://apple.co/2SJWVWB', 'display_url': 'apple.co/2SJWVWB', 'indices': [0, 23]}]}, 'description': {'urls': []}}, protected=False, followers_count=2, friends_count=0, listed_count=0, created_at=datetime.datetime(2020, 9, 20, 15, 56, 38), favourites_count=8, utc_offset=None, time_zone=None, geo_enabled=False, verified=False, statuses_count=12, lang=None, contributors_enabled=False, is_translator=False, is_translation_enabled=False, profile_background_color='F5F8FA', profile_background_image_url=None, profile_background_image_url_https=None, profile_background_tile=False, profile_image_url='http://pbs.twimg.com/profile_images/1308053330287976449/_jcAGomg_normal.jpg', profile_image_url_https='https://pbs.twimg.com/profile_images/1308053330287976449/_jcAGomg_normal.jpg', profile_banner_url='https://pbs.twimg.com/profile_banners/1307710217312899072/1602165770', profile_link_color='1DA1F2', profile_sidebar_border_color='C0DEED', profile_sidebar_fill_color='DDEEF6', profile_text_color='333333', profile_use_background_image=True, has_extended_profile=True, default_profile=True, default_profile_image=False, following=False, follow_request_sent=False, notifications=False, translator_type='none', withheld_in_countries=[]), geo=None, coordinates=None, place=None, contributors=None, is_quote_status=False, retweet_count=0, favorite_count=0, favorited=False, retweeted=False, lang='en'),\n Status(_api=<tweepy.api.API object at 0x10f9b6790>, _json={'created_at': 'Tue May 04 10:21:09 +0000 2021', 'id': 1389525497302851585, 'id_str': '1389525497302851585', 'text': '.@getmyslot subscribe 110001 18+', 'truncated': False, 'entities': {'hashtags': [], 'symbols': [], 'user_mentions': [{'screen_name': 'getmyslot', 'name': 'CowinHelper', 'id': 1389340423332659206, 'id_str': '1389340423332659206', 'indices': [1, 11]}], 'urls': []}, 'source': '<a href=\"https://mobile.twitter.com\" rel=\"nofollow\">Twitter Web App</a>', 'in_reply_to_status_id': None, 'in_reply_to_status_id_str': None, 'in_reply_to_user_id': None, 'in_reply_to_user_id_str': None, 'in_reply_to_screen_name': None, 'user': {'id': 1307710217312899072, 'id_str': '1307710217312899072', 'name': 'SpaceDash', 'screen_name': 'get_dash', 'location': 'Appstore', 'description': 'A Dashboard for Space! Opensourced at Github. Creator @pushpinderpal_. Continued development by OpenSouce Community!', 'url': 'https://t.co/iKyUi9k1Mk', 'entities': {'url': {'urls': [{'url': 'https://t.co/iKyUi9k1Mk', 'expanded_url': 'https://apple.co/2SJWVWB', 'display_url': 'apple.co/2SJWVWB', 'indices': [0, 23]}]}, 'description': {'urls': []}}, 'protected': False, 'followers_count': 2, 'friends_count': 0, 'listed_count': 0, 'created_at': 'Sun Sep 20 15:56:38 +0000 2020', 'favourites_count': 8, 'utc_offset': None, 'time_zone': None, 'geo_enabled': False, 'verified': False, 'statuses_count': 12, 'lang': None, 'contributors_enabled': False, 'is_translator': False, 'is_translation_enabled': False, 'profile_background_color': 'F5F8FA', 'profile_background_image_url': None, 'profile_background_image_url_https': None, 'profile_background_tile': False, 'profile_image_url': 'http://pbs.twimg.com/profile_images/1308053330287976449/_jcAGomg_normal.jpg', 'profile_image_url_https': 'https://pbs.twimg.com/profile_images/1308053330287976449/_jcAGomg_normal.jpg', 'profile_banner_url': 'https://pbs.twimg.com/profile_banners/1307710217312899072/1602165770', 'profile_link_color': '1DA1F2', 'profile_sidebar_border_color': 'C0DEED', 'profile_sidebar_fill_color': 'DDEEF6', 'profile_text_color': '333333', 'profile_use_background_image': True, 'has_extended_profile': True, 'default_profile': True, 'default_profile_image': False, 'following': False, 'follow_request_sent': False, 'notifications': False, 'translator_type': 'none', 'withheld_in_countries': []}, 'geo': None, 'coordinates': None, 'place': None, 'contributors': None, 'is_quote_status': False, 'retweet_count': 0, 'favorite_count': 0, 'favorited': False, 'retweeted': False, 'lang': 'en'}, created_at=datetime.datetime(2021, 5, 4, 10, 21, 9), id=1389525497302851585, id_str='1389525497302851585', text='.@getmyslot subscribe 110001 18+', truncated=False, entities={'hashtags': [], 'symbols': [], 'user_mentions': [{'screen_name': 'getmyslot', 'name': 'CowinHelper', 'id': 1389340423332659206, 'id_str': '1389340423332659206', 'indices': [1, 11]}], 'urls': []}, source='Twitter Web App', source_url='https://mobile.twitter.com', in_reply_to_status_id=None, in_reply_to_status_id_str=None, in_reply_to_user_id=None, in_reply_to_user_id_str=None, in_reply_to_screen_name=None, author=User(_api=<tweepy.api.API object at 0x10f9b6790>, _json={'id': 1307710217312899072, 'id_str': '1307710217312899072', 'name': 'SpaceDash', 'screen_name': 'get_dash', 'location': 'Appstore', 'description': 'A Dashboard for Space! Opensourced at Github. Creator @pushpinderpal_. Continued development by OpenSouce Community!', 'url': 'https://t.co/iKyUi9k1Mk', 'entities': {'url': {'urls': [{'url': 'https://t.co/iKyUi9k1Mk', 'expanded_url': 'https://apple.co/2SJWVWB', 'display_url': 'apple.co/2SJWVWB', 'indices': [0, 23]}]}, 'description': {'urls': []}}, 'protected': False, 'followers_count': 2, 'friends_count': 0, 'listed_count': 0, 'created_at': 'Sun Sep 20 15:56:38 +0000 2020', 'favourites_count': 8, 'utc_offset': None, 'time_zone': None, 'geo_enabled': False, 'verified': False, 'statuses_count': 12, 'lang': None, 'contributors_enabled': False, 'is_translator': False, 'is_translation_enabled': False, 'profile_background_color': 'F5F8FA', 'profile_background_image_url': None, 'profile_background_image_url_https': None, 'profile_background_tile': False, 'profile_image_url': 'http://pbs.twimg.com/profile_images/1308053330287976449/_jcAGomg_normal.jpg', 'profile_image_url_https': 'https://pbs.twimg.com/profile_images/1308053330287976449/_jcAGomg_normal.jpg', 'profile_banner_url': 'https://pbs.twimg.com/profile_banners/1307710217312899072/1602165770', 'profile_link_color': '1DA1F2', 'profile_sidebar_border_color': 'C0DEED', 'profile_sidebar_fill_color': 'DDEEF6', 'profile_text_color': '333333', 'profile_use_background_image': True, 'has_extended_profile': True, 'default_profile': True, 'default_profile_image': False, 'following': False, 'follow_request_sent': False, 'notifications': False, 'translator_type': 'none', 'withheld_in_countries': []}, id=1307710217312899072, id_str='1307710217312899072', name='SpaceDash', screen_name='get_dash', location='Appstore', description='A Dashboard for Space! Opensourced at Github. Creator @pushpinderpal_. Continued development by OpenSouce Community!', url='https://t.co/iKyUi9k1Mk', entities={'url': {'urls': [{'url': 'https://t.co/iKyUi9k1Mk', 'expanded_url': 'https://apple.co/2SJWVWB', 'display_url': 'apple.co/2SJWVWB', 'indices': [0, 23]}]}, 'description': {'urls': []}}, protected=False, followers_count=2, friends_count=0, listed_count=0, created_at=datetime.datetime(2020, 9, 20, 15, 56, 38), favourites_count=8, utc_offset=None, time_zone=None, geo_enabled=False, verified=False, statuses_count=12, lang=None, contributors_enabled=False, is_translator=False, is_translation_enabled=False, profile_background_color='F5F8FA', profile_background_image_url=None, profile_background_image_url_https=None, profile_background_tile=False, profile_image_url='http://pbs.twimg.com/profile_images/1308053330287976449/_jcAGomg_normal.jpg', profile_image_url_https='https://pbs.twimg.com/profile_images/1308053330287976449/_jcAGomg_normal.jpg', profile_banner_url='https://pbs.twimg.com/profile_banners/1307710217312899072/1602165770', profile_link_color='1DA1F2', profile_sidebar_border_color='C0DEED', profile_sidebar_fill_color='DDEEF6', profile_text_color='333333', profile_use_background_image=True, has_extended_profile=True, default_profile=True, default_profile_image=False, following=False, follow_request_sent=False, notifications=False, translator_type='none', withheld_in_countries=[]), user=User(_api=<tweepy.api.API object at 0x10f9b6790>, _json={'id': 1307710217312899072, 'id_str': '1307710217312899072', 'name': 'SpaceDash', 'screen_name': 'get_dash', 'location': 'Appstore', 'description': 'A Dashboard for Space! Opensourced at Github. Creator @pushpinderpal_. Continued development by OpenSouce Community!', 'url': 'https://t.co/iKyUi9k1Mk', 'entities': {'url': {'urls': [{'url': 'https://t.co/iKyUi9k1Mk', 'expanded_url': 'https://apple.co/2SJWVWB', 'display_url': 'apple.co/2SJWVWB', 'indices': [0, 23]}]}, 'description': {'urls': []}}, 'protected': False, 'followers_count': 2, 'friends_count': 0, 'listed_count': 0, 'created_at': 'Sun Sep 20 15:56:38 +0000 2020', 'favourites_count': 8, 'utc_offset': None, 'time_zone': None, 'geo_enabled': False, 'verified': False, 'statuses_count': 12, 'lang': None, 'contributors_enabled': False, 'is_translator': False, 'is_translation_enabled': False, 'profile_background_color': 'F5F8FA', 'profile_background_image_url': None, 'profile_background_image_url_https': None, 'profile_background_tile': False, 'profile_image_url': 'http://pbs.twimg.com/profile_images/1308053330287976449/_jcAGomg_normal.jpg', 'profile_image_url_https': 'https://pbs.twimg.com/profile_images/1308053330287976449/_jcAGomg_normal.jpg', 'profile_banner_url': 'https://pbs.twimg.com/profile_banners/1307710217312899072/1602165770', 'profile_link_color': '1DA1F2', 'profile_sidebar_border_color': 'C0DEED', 'profile_sidebar_fill_color': 'DDEEF6', 'profile_text_color': '333333', 'profile_use_background_image': True, 'has_extended_profile': True, 'default_profile': True, 'default_profile_image': False, 'following': False, 'follow_request_sent': False, 'notifications': False, 'translator_type': 'none', 'withheld_in_countries': []}, id=1307710217312899072, id_str='1307710217312899072', name='SpaceDash', screen_name='get_dash', location='Appstore', description='A Dashboard for Space! Opensourced at Github. Creator @pushpinderpal_. Continued development by OpenSouce Community!', url='https://t.co/iKyUi9k1Mk', entities={'url': {'urls': [{'url': 'https://t.co/iKyUi9k1Mk', 'expanded_url': 'https://apple.co/2SJWVWB', 'display_url': 'apple.co/2SJWVWB', 'indices': [0, 23]}]}, 'description': {'urls': []}}, protected=False, followers_count=2, friends_count=0, listed_count=0, created_at=datetime.datetime(2020, 9, 20, 15, 56, 38), favourites_count=8, utc_offset=None, time_zone=None, geo_enabled=False, verified=False, statuses_count=12, lang=None, contributors_enabled=False, is_translator=False, is_translation_enabled=False, profile_background_color='F5F8FA', profile_background_image_url=None, profile_background_image_url_https=None, profile_background_tile=False, profile_image_url='http://pbs.twimg.com/profile_images/1308053330287976449/_jcAGomg_normal.jpg', profile_image_url_https='https://pbs.twimg.com/profile_images/1308053330287976449/_jcAGomg_normal.jpg', profile_banner_url='https://pbs.twimg.com/profile_banners/1307710217312899072/1602165770', profile_link_color='1DA1F2', profile_sidebar_border_color='C0DEED', profile_sidebar_fill_color='DDEEF6', profile_text_color='333333', profile_use_background_image=True, has_extended_profile=True, default_profile=True, default_profile_image=False, following=False, follow_request_sent=False, notifications=False, translator_type='none', withheld_in_countries=[]), geo=None, coordinates=None, place=None, contributors=None, is_quote_status=False, retweet_count=0, favorite_count=0, favorited=False, retweeted=False, lang='en')]"
     },
     "execution_count": 11,
     "metadata": {},
     "output_type": "execute_result"
    }
   ],
   "source": [
    "mentions"
   ],
   "metadata": {
    "collapsed": false,
    "pycharm": {
     "name": "#%%\n"
    }
   }
  },
  {
   "cell_type": "code",
   "execution_count": null,
   "outputs": [],
   "source": [],
   "metadata": {
    "collapsed": false,
    "pycharm": {
     "name": "#%%\n"
    }
   }
  }
 ],
 "metadata": {
  "kernelspec": {
   "display_name": "Python 3",
   "language": "python",
   "name": "python3"
  },
  "language_info": {
   "codemirror_mode": {
    "name": "ipython",
    "version": 2
   },
   "file_extension": ".py",
   "mimetype": "text/x-python",
   "name": "python",
   "nbconvert_exporter": "python",
   "pygments_lexer": "ipython2",
   "version": "2.7.6"
  }
 },
 "nbformat": 4,
 "nbformat_minor": 0
}